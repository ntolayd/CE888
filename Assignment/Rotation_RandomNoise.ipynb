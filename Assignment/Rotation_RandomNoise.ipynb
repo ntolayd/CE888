{
  "nbformat": 4,
  "nbformat_minor": 0,
  "metadata": {
    "accelerator": "GPU",
    "colab": {
      "name": "fire_classification_rotation_random_noise",
      "provenance": [],
      "collapsed_sections": [],
      "machine_shape": "hm",
      "authorship_tag": "ABX9TyN1WqD+k0T0gTokso1K+NTt",
      "include_colab_link": true
    },
    "kernelspec": {
      "display_name": "Python 3",
      "name": "python3"
    }
  },
  "cells": [
    {
      "cell_type": "markdown",
      "metadata": {
        "id": "view-in-github",
        "colab_type": "text"
      },
      "source": [
        "<a href=\"https://colab.research.google.com/github/ntolayd/CE888/blob/main/Assignment/Rotation_RandomNoise.ipynb\" target=\"_parent\"><img src=\"https://colab.research.google.com/assets/colab-badge.svg\" alt=\"Open In Colab\"/></a>"
      ]
    },
    {
      "cell_type": "code",
      "metadata": {
        "colab": {
          "base_uri": "https://localhost:8080/"
        },
        "id": "9EhLGDVxvawB",
        "outputId": "2e4fc5b2-a211-4cc4-ab38-87330bc963a4"
      },
      "source": [
        "from google.colab import drive\n",
        "drive.mount('/content/gdrive')"
      ],
      "execution_count": null,
      "outputs": [
        {
          "output_type": "stream",
          "text": [
            "Mounted at /content/gdrive\n"
          ],
          "name": "stdout"
        }
      ]
    },
    {
      "cell_type": "code",
      "metadata": {
        "id": "YDHeK9qnvdD8"
      },
      "source": [
        "!unzip \"/content/gdrive/My Drive/Test.zip\"\n",
        "!unzip \"/content/gdrive/My Drive/Training.zip\""
      ],
      "execution_count": null,
      "outputs": []
    },
    {
      "cell_type": "code",
      "metadata": {
        "id": "iLVyF4nXSvoW"
      },
      "source": [
        "import os \n",
        "import random\n",
        "import shutil"
      ],
      "execution_count": null,
      "outputs": []
    },
    {
      "cell_type": "code",
      "metadata": {
        "id": "MK29LTT7t91W"
      },
      "source": [
        "os.mkdir('Validation')\n",
        "os.mkdir('Validation/Fire')\n",
        "os.mkdir('Validation/No_Fire')"
      ],
      "execution_count": null,
      "outputs": []
    },
    {
      "cell_type": "code",
      "metadata": {
        "id": "R5UWXTtIRrKI"
      },
      "source": [
        "#Creating validation folder and moving randomly selected images from traning folder to validation folder\n",
        "random.seed(126)\n",
        "source = 'Training/Fire'\n",
        "dest = 'Validation/Fire'\n",
        "files = os.listdir(source)\n",
        "no_of_files = len(files) // 6\n",
        "\n",
        "for file_name in random.sample(files, no_of_files):\n",
        "    shutil.move(os.path.join(source, file_name), dest)\n"
      ],
      "execution_count": null,
      "outputs": []
    },
    {
      "cell_type": "code",
      "metadata": {
        "id": "v3huqs0vR-LV"
      },
      "source": [
        "#Creating validation folder and moving randomly selected images from traning folder to validation folder\n",
        "random.seed(19)\n",
        "source = 'Training/No_Fire'\n",
        "dest = 'Validation/No_Fire'\n",
        "files = os.listdir(source)\n",
        "no_of_files = len(files) // 6\n",
        "\n",
        "for file_name in random.sample(files, no_of_files):\n",
        "    shutil.move(os.path.join(source, file_name), dest)\n"
      ],
      "execution_count": null,
      "outputs": []
    },
    {
      "cell_type": "code",
      "metadata": {
        "id": "ZH4UIILyy1D9"
      },
      "source": [
        "import numpy as np\n",
        "from tqdm import tqdm\n",
        "from random import shuffle\n",
        "import cv2\n",
        "import os \n",
        "from tensorflow.keras.preprocessing.image import ImageDataGenerator\n",
        "import tensorflow as tf\n",
        "import matplotlib.pyplot as plt\n",
        "import pandas as pd\n",
        "from keras.models import Sequential\n",
        "from keras.layers import GlobalAveragePooling2D, Flatten, Conv2D, MaxPooling2D\n",
        "from keras.layers import Dropout\n",
        "from keras.layers import Dense\n",
        "from keras.optimizers import Adam, RMSprop\n",
        "from sklearn.metrics import classification_report\n",
        "from skimage.color import rgb2hsv\n",
        "import skimage"
      ],
      "execution_count": null,
      "outputs": []
    },
    {
      "cell_type": "code",
      "metadata": {
        "id": "IivF0Q3hxFQl"
      },
      "source": [
        "Train_path = 'Training'\n",
        "Test_path = 'Test'\n",
        "Validation_path ='Validation'"
      ],
      "execution_count": null,
      "outputs": []
    },
    {
      "cell_type": "code",
      "metadata": {
        "id": "5mNfR3nHHuz6"
      },
      "source": [
        "from skimage.color import rgb2hsv\n",
        "def color_aug(img):\n",
        "  img = img / 255\n",
        "  new_img = rgb2hsv(img) * 255\n",
        "  return new_img"
      ],
      "execution_count": null,
      "outputs": []
    },
    {
      "cell_type": "code",
      "metadata": {
        "id": "fDlqfGF-H4ks"
      },
      "source": [
        "def noise(img):\n",
        "    img = img / 255\n",
        "    gimg = skimage.util.random_noise(img, mode='gaussian') * 255\n",
        "    return gimg "
      ],
      "execution_count": null,
      "outputs": []
    },
    {
      "cell_type": "code",
      "metadata": {
        "colab": {
          "base_uri": "https://localhost:8080/"
        },
        "id": "cUNZMATZRfxu",
        "outputId": "0c905b38-5b11-4e62-9e92-ca08168e901c"
      },
      "source": [
        "train_datagen = ImageDataGenerator(rescale=1./255,\n",
        "                                   rotation_range=45,\n",
        "                                   preprocessing_function=noise\n",
        "                                   )\n",
        "\n",
        "validation_datagen = ImageDataGenerator(rescale=1./255)\n",
        "\n",
        "test_datagen = ImageDataGenerator(rescale=1./255)\n",
        "\n",
        "train_generator = train_datagen.flow_from_directory(\n",
        "    Train_path,\n",
        "    target_size=(254, 254),\n",
        "    batch_size=64,\n",
        "    color_mode='rgb',\n",
        "    class_mode='binary',\n",
        "    shuffle=True) # set as training data\n",
        "\n",
        "validation_generator = validation_datagen.flow_from_directory(\n",
        "    Validation_path, \n",
        "    target_size=(254, 254),\n",
        "    color_mode='rgb',\n",
        "    batch_size=64,\n",
        "    class_mode='binary', shuffle=False) # set as validation data\n",
        "\n",
        "test_generator = test_datagen.flow_from_directory(\n",
        "        Test_path,\n",
        "        target_size=(254, 254),\n",
        "        color_mode='rgb',\n",
        "        batch_size=1,\n",
        "        class_mode='binary', shuffle=False)"
      ],
      "execution_count": null,
      "outputs": [
        {
          "output_type": "stream",
          "text": [
            "Found 32814 images belonging to 2 classes.\n",
            "Found 6561 images belonging to 2 classes.\n",
            "Found 8617 images belonging to 2 classes.\n"
          ],
          "name": "stdout"
        }
      ]
    },
    {
      "cell_type": "markdown",
      "metadata": {
        "id": "9KzWaInh7XbN"
      },
      "source": [
        "**Xception**"
      ]
    },
    {
      "cell_type": "code",
      "metadata": {
        "colab": {
          "base_uri": "https://localhost:8080/"
        },
        "id": "95eWg9i1kRFe",
        "outputId": "af8c93ce-fc61-4550-8795-a8222a7c5ca8"
      },
      "source": [
        "from keras.applications import Xception\n",
        "\n",
        "\n",
        "xcep = Xception(\n",
        "    include_top=False,\n",
        "    input_shape=(254,254,3))\n",
        "model = Sequential()\n",
        "model.add(xcep)\n",
        "model.add(GlobalAveragePooling2D())\n",
        "model.add(Dropout(0.6))\n",
        "model.add(Dense(512, activation='relu'))\n",
        "model.add(Dropout(0.6))\n",
        "model.add(Dense(1, activation='sigmoid'))\n",
        "\n",
        "model.compile(loss='binary_crossentropy',\n",
        "              optimizer=RMSprop(lr=0.000075),\n",
        "              metrics=['accuracy'])"
      ],
      "execution_count": null,
      "outputs": [
        {
          "output_type": "stream",
          "text": [
            "Downloading data from https://storage.googleapis.com/tensorflow/keras-applications/xception/xception_weights_tf_dim_ordering_tf_kernels_notop.h5\n",
            "83689472/83683744 [==============================] - 3s 0us/step\n"
          ],
          "name": "stdout"
        }
      ]
    },
    {
      "cell_type": "code",
      "metadata": {
        "colab": {
          "base_uri": "https://localhost:8080/"
        },
        "id": "JSbNCvvHkQ26",
        "outputId": "31dce44c-93dd-4856-d494-e0c0ff3ba4b1"
      },
      "source": [
        "history = model.fit(\n",
        "          train_generator,\n",
        "          steps_per_epoch = train_generator.samples // 64,\n",
        "          validation_data = validation_generator, \n",
        "          validation_steps = validation_generator.samples // 64,\n",
        "          epochs = 5)"
      ],
      "execution_count": null,
      "outputs": [
        {
          "output_type": "stream",
          "text": [
            "Epoch 1/5\n",
            "512/512 [==============================] - 742s 1s/step - loss: 0.0993 - accuracy: 0.9613 - val_loss: 4.1385 - val_accuracy: 0.5585\n",
            "Epoch 2/5\n",
            "512/512 [==============================] - 720s 1s/step - loss: 0.0108 - accuracy: 0.9971 - val_loss: 5.1354 - val_accuracy: 0.6304\n",
            "Epoch 3/5\n",
            "512/512 [==============================] - 719s 1s/step - loss: 0.0070 - accuracy: 0.9976 - val_loss: 3.2492 - val_accuracy: 0.6648\n",
            "Epoch 4/5\n",
            "512/512 [==============================] - 717s 1s/step - loss: 0.0082 - accuracy: 0.9983 - val_loss: 1.2002 - val_accuracy: 0.7926\n",
            "Epoch 5/5\n",
            "512/512 [==============================] - 720s 1s/step - loss: 0.0082 - accuracy: 0.9982 - val_loss: 2.8738 - val_accuracy: 0.6945\n"
          ],
          "name": "stdout"
        }
      ]
    },
    {
      "cell_type": "code",
      "metadata": {
        "id": "yLHJfbkckQjq"
      },
      "source": [
        "predictions = model.predict(test_generator)\n"
      ],
      "execution_count": null,
      "outputs": []
    },
    {
      "cell_type": "code",
      "metadata": {
        "colab": {
          "base_uri": "https://localhost:8080/"
        },
        "id": "Tl9sfA5Fkdv6",
        "outputId": "d97e9821-9ba1-457b-e5f1-38b47153a9a4"
      },
      "source": [
        "\n",
        "test_labels=test_generator.classes \n",
        "\n",
        "y_pred = [1 * (x[0]>=0.5) for x in predictions]\n",
        "\n",
        "print(classification_report(test_labels, y_pred))"
      ],
      "execution_count": null,
      "outputs": [
        {
          "output_type": "stream",
          "text": [
            "              precision    recall  f1-score   support\n",
            "\n",
            "           0       0.96      0.39      0.55      5137\n",
            "           1       0.52      0.98      0.68      3480\n",
            "\n",
            "    accuracy                           0.63      8617\n",
            "   macro avg       0.74      0.68      0.62      8617\n",
            "weighted avg       0.78      0.63      0.60      8617\n",
            "\n"
          ],
          "name": "stdout"
        }
      ]
    },
    {
      "cell_type": "code",
      "metadata": {
        "colab": {
          "base_uri": "https://localhost:8080/",
          "height": 295
        },
        "id": "vmEHAVTOkgYX",
        "outputId": "3d2c803a-8b6b-4b46-bded-b9bdda4c0632"
      },
      "source": [
        "# summarize history for loss\n",
        "plt.plot(history.history['loss'])\n",
        "plt.plot(history.history['val_loss'])\n",
        "plt.title('model loss')\n",
        "plt.ylabel('loss')\n",
        "plt.xlabel('epoch')\n",
        "plt.legend(['train', 'validation'], loc='upper left')\n",
        "plt.show()"
      ],
      "execution_count": null,
      "outputs": [
        {
          "output_type": "display_data",
          "data": {
            "image/png": "[encoded data removed]",
            "text/plain": [
              "<Figure size 432x288 with 1 Axes>"
            ]
          },
          "metadata": {
            "tags": [],
            "needs_background": "light"
          }
        }
      ]
    },
    {
      "cell_type": "code",
      "metadata": {
        "colab": {
          "base_uri": "https://localhost:8080/",
          "height": 295
        },
        "id": "773qTh8vkgU9",
        "outputId": "aba108e3-d1e9-4591-8e89-0a0632ca47f7"
      },
      "source": [
        "# summarize history for accuracy\n",
        "plt.plot(history.history['accuracy'])\n",
        "plt.plot(history.history['val_accuracy'])\n",
        "plt.title('model accuracy')\n",
        "plt.ylabel('accuracy')\n",
        "plt.xlabel('epoch')\n",
        "plt.legend(['train', 'validation'], loc='upper left')\n",
        "plt.show()\n"
      ],
      "execution_count": null,
      "outputs": [
        {
          "output_type": "display_data",
          "data": {
            "image/png": "[encoded data removed]",
            "text/plain": [
              "<Figure size 432x288 with 1 Axes>"
            ]
          },
          "metadata": {
            "tags": [],
            "needs_background": "light"
          }
        }
      ]
    },
    {
      "cell_type": "markdown",
      "metadata": {
        "id": "8lPTHSta7jgJ"
      },
      "source": [
        "**DenseNet**"
      ]
    },
    {
      "cell_type": "code",
      "metadata": {
        "id": "OTW6Rbn2Q0-v",
        "colab": {
          "base_uri": "https://localhost:8080/"
        },
        "outputId": "ec1793f5-b4a9-44a4-9e86-9fa25fb82a31"
      },
      "source": [
        "from keras.applications import DenseNet121\n",
        "densenet_v2 = DenseNet121(\n",
        "    include_top=False,\n",
        "    input_shape=(254,254,3))\n",
        "model = Sequential()\n",
        "model.add(densenet_v2)\n",
        "model.add(GlobalAveragePooling2D())\n",
        "model.add(Dropout(0.6))\n",
        "model.add(Dense(512, activation='relu'))\n",
        "model.add(Dropout(0.6))\n",
        "model.add(Dense(1, activation='sigmoid'))\n",
        "\n",
        "model.compile(loss='binary_crossentropy',\n",
        "              optimizer=RMSprop(lr=0.000075),\n",
        "              metrics=['accuracy'])"
      ],
      "execution_count": null,
      "outputs": [
        {
          "output_type": "stream",
          "text": [
            "Downloading data from https://storage.googleapis.com/tensorflow/keras-applications/densenet/densenet121_weights_tf_dim_ordering_tf_kernels_notop.h5\n",
            "29089792/29084464 [==============================] - 0s 0us/step\n"
          ],
          "name": "stdout"
        }
      ]
    },
    {
      "cell_type": "code",
      "metadata": {
        "colab": {
          "base_uri": "https://localhost:8080/"
        },
        "id": "gOgOBkpRYR9j",
        "outputId": "fad800c7-94e7-452d-c187-261ca1bf7aec"
      },
      "source": [
        "history = model.fit(\n",
        "          train_generator,\n",
        "          steps_per_epoch = train_generator.samples // 64,\n",
        "          validation_data = validation_generator, \n",
        "          validation_steps = validation_generator.samples // 64,\n",
        "          epochs = 5)"
      ],
      "execution_count": null,
      "outputs": [
        {
          "output_type": "stream",
          "text": [
            "Epoch 1/5\n",
            "512/512 [==============================] - 871s 2s/step - loss: 0.1273 - accuracy: 0.9495 - val_loss: 0.0679 - val_accuracy: 0.9784\n",
            "Epoch 2/5\n",
            "512/512 [==============================] - 823s 2s/step - loss: 0.0149 - accuracy: 0.9958 - val_loss: 0.0095 - val_accuracy: 0.9963\n",
            "Epoch 3/5\n",
            "512/512 [==============================] - 810s 2s/step - loss: 0.0085 - accuracy: 0.9979 - val_loss: 0.7585 - val_accuracy: 0.8203\n",
            "Epoch 4/5\n",
            "512/512 [==============================] - 790s 2s/step - loss: 0.0073 - accuracy: 0.9979 - val_loss: 0.0470 - val_accuracy: 0.9838\n",
            "Epoch 5/5\n",
            "512/512 [==============================] - 794s 2s/step - loss: 0.0058 - accuracy: 0.9981 - val_loss: 0.0436 - val_accuracy: 0.9888\n"
          ],
          "name": "stdout"
        }
      ]
    },
    {
      "cell_type": "code",
      "metadata": {
        "id": "SvVAl845YUAd"
      },
      "source": [
        "predictions = model.predict(test_generator)"
      ],
      "execution_count": null,
      "outputs": []
    },
    {
      "cell_type": "code",
      "metadata": {
        "colab": {
          "base_uri": "https://localhost:8080/"
        },
        "id": "HduCe0x2Yf8G",
        "outputId": "ffd9eeba-1126-4ae4-9d13-638e1a4be983"
      },
      "source": [
        "test_labels=test_generator.classes \n",
        "\n",
        "y_pred = [1 * (x[0]>=0.5) for x in predictions]\n",
        "\n",
        "print(classification_report(test_labels, y_pred))"
      ],
      "execution_count": null,
      "outputs": [
        {
          "output_type": "stream",
          "text": [
            "              precision    recall  f1-score   support\n",
            "\n",
            "           0       0.76      0.92      0.84      5137\n",
            "           1       0.83      0.58      0.68      3480\n",
            "\n",
            "    accuracy                           0.78      8617\n",
            "   macro avg       0.80      0.75      0.76      8617\n",
            "weighted avg       0.79      0.78      0.77      8617\n",
            "\n"
          ],
          "name": "stdout"
        }
      ]
    },
    {
      "cell_type": "code",
      "metadata": {
        "id": "0wvpqTwwItUp",
        "colab": {
          "base_uri": "https://localhost:8080/"
        },
        "outputId": "266f9b9c-a73c-4262-f3eb-18784f55a68a"
      },
      "source": [
        "model.summary()"
      ],
      "execution_count": null,
      "outputs": [
        {
          "output_type": "stream",
          "text": [
            "Model: \"sequential\"\n",
            "_________________________________________________________________\n",
            "Layer (type)                 Output Shape              Param #   \n",
            "=================================================================\n",
            "densenet121 (Functional)     (None, 8, 8, 1024)        7037504   \n",
            "_________________________________________________________________\n",
            "global_average_pooling2d (Gl (None, 1024)              0         \n",
            "_________________________________________________________________\n",
            "dropout (Dropout)            (None, 1024)              0         \n",
            "_________________________________________________________________\n",
            "dense (Dense)                (None, 512)               524800    \n",
            "_________________________________________________________________\n",
            "dropout_1 (Dropout)          (None, 512)               0         \n",
            "_________________________________________________________________\n",
            "dense_1 (Dense)              (None, 1)                 513       \n",
            "=================================================================\n",
            "Total params: 7,562,817\n",
            "Trainable params: 7,479,169\n",
            "Non-trainable params: 83,648\n",
            "_________________________________________________________________\n"
          ],
          "name": "stdout"
        }
      ]
    },
    {
      "cell_type": "code",
      "metadata": {
        "colab": {
          "base_uri": "https://localhost:8080/",
          "height": 295
        },
        "id": "FiI8Gva4YiL-",
        "outputId": "de93f20f-22aa-4cd6-8ce9-b745b7ebaa2a"
      },
      "source": [
        "# summarize history for loss\n",
        "plt.plot(history.history['loss'])\n",
        "plt.plot(history.history['val_loss'])\n",
        "plt.title('model loss')\n",
        "plt.ylabel('loss')\n",
        "plt.xlabel('epoch')\n",
        "plt.legend(['train', 'validation'], loc='upper left')\n",
        "plt.show()"
      ],
      "execution_count": null,
      "outputs": [
        {
          "output_type": "display_data",
          "data": {
            "image/png": "[encoded data removed]",
            "text/plain": [
              "<Figure size 432x288 with 1 Axes>"
            ]
          },
          "metadata": {
            "tags": [],
            "needs_background": "light"
          }
        }
      ]
    },
    {
      "cell_type": "code",
      "metadata": {
        "colab": {
          "base_uri": "https://localhost:8080/",
          "height": 295
        },
        "id": "tE8vHxqcYj2Q",
        "outputId": "ba83e15f-1467-4b4e-b399-5cbe7c3ab784"
      },
      "source": [
        "# summarize history for accuracy\n",
        "plt.plot(history.history['accuracy'])\n",
        "plt.plot(history.history['val_accuracy'])\n",
        "plt.title('model accuracy')\n",
        "plt.ylabel('accuracy')\n",
        "plt.xlabel('epoch')\n",
        "plt.legend(['train', 'validation'], loc='upper left')\n",
        "plt.show()\n"
      ],
      "execution_count": null,
      "outputs": [
        {
          "output_type": "display_data",
          "data": {
            "image/png": "[encoded data removed]",
            "text/plain": [
              "<Figure size 432x288 with 1 Axes>"
            ]
          },
          "metadata": {
            "tags": [],
            "needs_background": "light"
          }
        }
      ]
    },
    {
      "cell_type": "markdown",
      "metadata": {
        "id": "Ur6ZfHCd74dJ"
      },
      "source": [
        "**VGG16**"
      ]
    },
    {
      "cell_type": "code",
      "metadata": {
        "colab": {
          "base_uri": "https://localhost:8080/"
        },
        "id": "VJzu_InPYlt_",
        "outputId": "cd589988-1fe6-42f8-e154-ab3a2c58e320"
      },
      "source": [
        "from keras.applications import VGG16\n",
        "vgg16 = VGG16(\n",
        "    include_top=False,\n",
        "    input_shape=(254,254,3),\n",
        "    classifier_activation=\"sigmoid\")\n",
        "model = Sequential()\n",
        "model.add(vgg16)\n",
        "model.add(GlobalAveragePooling2D())\n",
        "model.add(Dropout(0.6))\n",
        "model.add(Dense(512, activation='relu'))\n",
        "model.add(Dropout(0.6))\n",
        "model.add(Dense(1, activation='sigmoid'))\n",
        "\n",
        "model.compile(loss='binary_crossentropy',\n",
        "              optimizer=RMSprop(lr=0.000075),\n",
        "              metrics=['accuracy'])"
      ],
      "execution_count": null,
      "outputs": [
        {
          "output_type": "stream",
          "text": [
            "Downloading data from https://storage.googleapis.com/tensorflow/keras-applications/vgg16/vgg16_weights_tf_dim_ordering_tf_kernels_notop.h5\n",
            "58892288/58889256 [==============================] - 1s 0us/step\n"
          ],
          "name": "stdout"
        }
      ]
    },
    {
      "cell_type": "code",
      "metadata": {
        "colab": {
          "base_uri": "https://localhost:8080/"
        },
        "id": "WAO2RoDLbXdq",
        "outputId": "85c7cae8-504a-4bf9-b1de-ce4d35f4b5cf"
      },
      "source": [
        "history = model.fit(\n",
        "          train_generator,\n",
        "          steps_per_epoch = train_generator.samples // 64,\n",
        "          validation_data = validation_generator, \n",
        "          validation_steps = validation_generator.samples // 64,\n",
        "          epochs = 5)"
      ],
      "execution_count": null,
      "outputs": [
        {
          "output_type": "stream",
          "text": [
            "Epoch 1/5\n",
            "512/512 [==============================] - 812s 2s/step - loss: 0.2874 - accuracy: 0.8753 - val_loss: 0.1453 - val_accuracy: 0.9396\n",
            "Epoch 2/5\n",
            "512/512 [==============================] - 793s 2s/step - loss: 0.0583 - accuracy: 0.9803 - val_loss: 0.0198 - val_accuracy: 0.9957\n",
            "Epoch 3/5\n",
            "512/512 [==============================] - 790s 2s/step - loss: 0.0714 - accuracy: 0.9857 - val_loss: 0.4639 - val_accuracy: 0.8902\n",
            "Epoch 4/5\n",
            "512/512 [==============================] - 796s 2s/step - loss: 0.0746 - accuracy: 0.9821 - val_loss: 0.0300 - val_accuracy: 0.9977\n",
            "Epoch 5/5\n",
            "512/512 [==============================] - 812s 2s/step - loss: 0.0869 - accuracy: 0.9876 - val_loss: 0.0168 - val_accuracy: 0.9965\n"
          ],
          "name": "stdout"
        }
      ]
    },
    {
      "cell_type": "code",
      "metadata": {
        "id": "p2vaTvCmbZp3"
      },
      "source": [
        "predictions = model.predict(test_generator)\n"
      ],
      "execution_count": null,
      "outputs": []
    },
    {
      "cell_type": "code",
      "metadata": {
        "colab": {
          "base_uri": "https://localhost:8080/"
        },
        "id": "UmHNo3B8bber",
        "outputId": "934a2fe9-01db-4923-eef4-d09430cd87f1"
      },
      "source": [
        "test_labels=test_generator.classes \n",
        "\n",
        "y_pred = [1 * (x[0]>=0.5) for x in predictions]\n",
        "\n",
        "print(classification_report(test_labels, y_pred))"
      ],
      "execution_count": null,
      "outputs": [
        {
          "output_type": "stream",
          "text": [
            "              precision    recall  f1-score   support\n",
            "\n",
            "           0       0.74      0.97      0.84      5137\n",
            "           1       0.91      0.50      0.65      3480\n",
            "\n",
            "    accuracy                           0.78      8617\n",
            "   macro avg       0.82      0.73      0.74      8617\n",
            "weighted avg       0.81      0.78      0.76      8617\n",
            "\n"
          ],
          "name": "stdout"
        }
      ]
    },
    {
      "cell_type": "code",
      "metadata": {
        "colab": {
          "base_uri": "https://localhost:8080/",
          "height": 295
        },
        "id": "2Zt0N128bdBA",
        "outputId": "1ce840a7-6117-4155-cdf9-63981bd68837"
      },
      "source": [
        "# summarize history for loss\n",
        "plt.plot(history.history['loss'])\n",
        "plt.plot(history.history['val_loss'])\n",
        "plt.title('model loss')\n",
        "plt.ylabel('loss')\n",
        "plt.xlabel('epoch')\n",
        "plt.legend(['train', 'validation'], loc='upper left')\n",
        "plt.show()"
      ],
      "execution_count": null,
      "outputs": [
        {
          "output_type": "display_data",
          "data": {
            "image/png": "[encoded data removed]",
            "text/plain": [
              "<Figure size 432x288 with 1 Axes>"
            ]
          },
          "metadata": {
            "tags": [],
            "needs_background": "light"
          }
        }
      ]
    },
    {
      "cell_type": "code",
      "metadata": {
        "colab": {
          "base_uri": "https://localhost:8080/",
          "height": 295
        },
        "id": "fT_rvnpUbfE0",
        "outputId": "823317a7-dbad-4a4a-b2a8-c2e3eb1d880e"
      },
      "source": [
        "# summarize history for accuracy\n",
        "plt.plot(history.history['accuracy'])\n",
        "plt.plot(history.history['val_accuracy'])\n",
        "plt.title('model accuracy')\n",
        "plt.ylabel('accuracy')\n",
        "plt.xlabel('epoch')\n",
        "plt.legend(['train', 'validation'], loc='upper left')\n",
        "plt.show()\n"
      ],
      "execution_count": null,
      "outputs": [
        {
          "output_type": "display_data",
          "data": {
            "image/png": "[encoded data removed]",
            "text/plain": [
              "<Figure size 432x288 with 1 Axes>"
            ]
          },
          "metadata": {
            "tags": [],
            "needs_background": "light"
          }
        }
      ]
    },
    {
      "cell_type": "markdown",
      "metadata": {
        "id": "JiLtJbYU7_uH"
      },
      "source": [
        "**ResNet**"
      ]
    },
    {
      "cell_type": "code",
      "metadata": {
        "id": "-7a9N64zbgmi",
        "colab": {
          "base_uri": "https://localhost:8080/"
        },
        "outputId": "400800c2-74d2-4bef-f398-8c61b86d2160"
      },
      "source": [
        "from keras.applications import ResNet101\n",
        "\n",
        "resnet = ResNet101(\n",
        "    include_top=False,\n",
        "    input_shape=(254,254,3))\n",
        "model = Sequential()\n",
        "model.add(resnet)\n",
        "model.add(GlobalAveragePooling2D())\n",
        "model.add(Dropout(0.6))\n",
        "model.add(Dense(512, activation='relu'))\n",
        "model.add(Dropout(0.6))\n",
        "model.add(Dense(1, activation='sigmoid'))\n",
        "\n",
        "model.compile(loss='binary_crossentropy',\n",
        "              optimizer=RMSprop(lr=0.000075),\n",
        "              metrics=['accuracy'])"
      ],
      "execution_count": null,
      "outputs": [
        {
          "output_type": "stream",
          "text": [
            "Downloading data from https://storage.googleapis.com/tensorflow/keras-applications/resnet/resnet101_weights_tf_dim_ordering_tf_kernels_notop.h5\n",
            "171450368/171446536 [==============================] - 3s 0us/step\n"
          ],
          "name": "stdout"
        }
      ]
    },
    {
      "cell_type": "code",
      "metadata": {
        "colab": {
          "base_uri": "https://localhost:8080/"
        },
        "id": "6Abt5D1db4Ub",
        "outputId": "44e929d3-ea45-4231-d448-b2fb9bf95b90"
      },
      "source": [
        "history = model.fit(\n",
        "          train_generator,\n",
        "          steps_per_epoch = train_generator.samples // 64,\n",
        "          validation_data = validation_generator, \n",
        "          validation_steps = validation_generator.samples // 64,\n",
        "          epochs = 5)"
      ],
      "execution_count": null,
      "outputs": [
        {
          "output_type": "stream",
          "text": [
            "Epoch 1/5\n",
            "512/512 [==============================] - 845s 2s/step - loss: 0.0886 - accuracy: 0.9641 - val_loss: 58.3566 - val_accuracy: 0.6386\n",
            "Epoch 2/5\n",
            "512/512 [==============================] - 839s 2s/step - loss: 0.0201 - accuracy: 0.9962 - val_loss: 5.8632 - val_accuracy: 0.3614\n",
            "Epoch 3/5\n",
            "512/512 [==============================] - 827s 2s/step - loss: 0.0141 - accuracy: 0.9973 - val_loss: 11.8153 - val_accuracy: 0.6065\n",
            "Epoch 4/5\n",
            "512/512 [==============================] - 786s 2s/step - loss: 0.0266 - accuracy: 0.9962 - val_loss: 114.8808 - val_accuracy: 0.3479\n",
            "Epoch 5/5\n",
            "512/512 [==============================] - 799s 2s/step - loss: 0.0110 - accuracy: 0.9976 - val_loss: 6.1222 - val_accuracy: 0.3808\n"
          ],
          "name": "stdout"
        }
      ]
    },
    {
      "cell_type": "code",
      "metadata": {
        "id": "-Cn_jOC_b6d1"
      },
      "source": [
        "predictions = model.predict(test_generator)\n"
      ],
      "execution_count": null,
      "outputs": []
    },
    {
      "cell_type": "code",
      "metadata": {
        "colab": {
          "base_uri": "https://localhost:8080/"
        },
        "id": "TkaapofSb714",
        "outputId": "1fc8adb7-a730-4928-e5f5-36a615afd90a"
      },
      "source": [
        "# import classification_report\n",
        "from sklearn.metrics import classification_report\n",
        "\n",
        "# get the ground truth of your data. \n",
        "test_labels=test_generator.classes \n",
        "\n",
        "y_pred = [1 * (x[0]>=0.5) for x in predictions]\n",
        "\n",
        "# get the classification report\n",
        "print(classification_report(test_labels, y_pred))"
      ],
      "execution_count": null,
      "outputs": [
        {
          "output_type": "stream",
          "text": [
            "              precision    recall  f1-score   support\n",
            "\n",
            "           0       1.00      0.02      0.05      5137\n",
            "           1       0.41      1.00      0.58      3480\n",
            "\n",
            "    accuracy                           0.42      8617\n",
            "   macro avg       0.70      0.51      0.31      8617\n",
            "weighted avg       0.76      0.42      0.26      8617\n",
            "\n"
          ],
          "name": "stdout"
        }
      ]
    },
    {
      "cell_type": "code",
      "metadata": {
        "colab": {
          "base_uri": "https://localhost:8080/",
          "height": 295
        },
        "id": "SkoKsWD3b9xh",
        "outputId": "f677b7ba-0195-40d2-fd97-df1e747b4c83"
      },
      "source": [
        "# summarize history for loss\n",
        "plt.plot(history.history['loss'])\n",
        "plt.plot(history.history['val_loss'])\n",
        "plt.title('model loss')\n",
        "plt.ylabel('loss')\n",
        "plt.xlabel('epoch')\n",
        "plt.legend(['train', 'validation'], loc='upper left')\n",
        "plt.show()"
      ],
      "execution_count": null,
      "outputs": [
        {
          "output_type": "display_data",
          "data": {
            "image/png": "[encoded data removed]",
            "text/plain": [
              "<Figure size 432x288 with 1 Axes>"
            ]
          },
          "metadata": {
            "tags": [],
            "needs_background": "light"
          }
        }
      ]
    },
    {
      "cell_type": "code",
      "metadata": {
        "colab": {
          "base_uri": "https://localhost:8080/",
          "height": 295
        },
        "id": "nrp7NtsUb_Cz",
        "outputId": "1c3a837b-8167-4f8e-cf3a-1493f12f0ccc"
      },
      "source": [
        "# summarize history for accuracy\n",
        "plt.plot(history.history['accuracy'])\n",
        "plt.plot(history.history['val_accuracy'])\n",
        "plt.title('model accuracy')\n",
        "plt.ylabel('accuracy')\n",
        "plt.xlabel('epoch')\n",
        "plt.legend(['train', 'validation'], loc='upper left')\n",
        "plt.show()\n"
      ],
      "execution_count": null,
      "outputs": [
        {
          "output_type": "display_data",
          "data": {
            "image/png": "[encoded data removed]",
            "text/plain": [
              "<Figure size 432x288 with 1 Axes>"
            ]
          },
          "metadata": {
            "tags": [],
            "needs_background": "light"
          }
        }
      ]
    },
    {
      "cell_type": "code",
      "metadata": {
        "id": "y1d1snCda6Nl"
      },
      "source": [
        ""
      ],
      "execution_count": null,
      "outputs": []
    },
    {
      "cell_type": "code",
      "metadata": {
        "id": "kwSFXwZ4oF42"
      },
      "source": [
        ""
      ],
      "execution_count": null,
      "outputs": []
    }
  ]
}