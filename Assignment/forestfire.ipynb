{
  "nbformat": 4,
  "nbformat_minor": 0,
  "metadata": {
    "colab": {
      "name": "forestfire.ipynb",
      "provenance": [],
      "collapsed_sections": [],
      "authorship_tag": "ABX9TyMgeQWF9vEFfbNdzCFo7abx",
      "include_colab_link": true
    },
    "kernelspec": {
      "name": "python3",
      "display_name": "Python 3"
    },
    "accelerator": "GPU"
  },
  "cells": [
    {
      "cell_type": "markdown",
      "metadata": {
        "id": "view-in-github",
        "colab_type": "text"
      },
      "source": [
        "<a href=\"https://colab.research.google.com/github/ntolayd/CE888/blob/main/Assignment/forestfire.ipynb\" target=\"_parent\"><img src=\"https://colab.research.google.com/assets/colab-badge.svg\" alt=\"Open In Colab\"/></a>"
      ]
    },
    {
      "cell_type": "code",
      "metadata": {
        "colab": {
          "base_uri": "https://localhost:8080/"
        },
        "id": "9EhLGDVxvawB",
        "outputId": "1a739858-2d1e-468e-f828-3a052871b0ee"
      },
      "source": [
        "from google.colab import drive\r\n",
        "drive.mount('/content/gdrive')"
      ],
      "execution_count": 1,
      "outputs": [
        {
          "output_type": "stream",
          "text": [
            "Mounted at /content/gdrive\n"
          ],
          "name": "stdout"
        }
      ]
    },
    {
      "cell_type": "code",
      "metadata": {
        "id": "YDHeK9qnvdD8"
      },
      "source": [
        "!unzip \"/content/gdrive/My Drive/Test.zip\"\r\n",
        "!unzip \"/content/gdrive/My Drive/Training.zip\""
      ],
      "execution_count": null,
      "outputs": []
    },
    {
      "cell_type": "code",
      "metadata": {
        "id": "iLVyF4nXSvoW"
      },
      "source": [
        "import os \r\n",
        "import random\r\n",
        "import shutil"
      ],
      "execution_count": 3,
      "outputs": []
    },
    {
      "cell_type": "code",
      "metadata": {
        "id": "MK29LTT7t91W"
      },
      "source": [
        "os.mkdir('Validation')\r\n",
        "os.mkdir('Validation/Fire')\r\n",
        "os.mkdir('Validation/No_Fire')"
      ],
      "execution_count": 4,
      "outputs": []
    },
    {
      "cell_type": "code",
      "metadata": {
        "id": "R5UWXTtIRrKI"
      },
      "source": [
        "source = 'Training/Fire'\r\n",
        "dest = 'Validation/Fire'\r\n",
        "files = os.listdir(source)\r\n",
        "no_of_files = len(files) // 5\r\n",
        "\r\n",
        "for file_name in random.sample(files, no_of_files):\r\n",
        "    shutil.move(os.path.join(source, file_name), dest)\r\n"
      ],
      "execution_count": 5,
      "outputs": []
    },
    {
      "cell_type": "code",
      "metadata": {
        "id": "v3huqs0vR-LV"
      },
      "source": [
        "source = 'Training/No_Fire'\r\n",
        "dest = 'Validation/No_Fire'\r\n",
        "files = os.listdir(source)\r\n",
        "no_of_files = len(files) // 5\r\n",
        "\r\n",
        "for file_name in random.sample(files, no_of_files):\r\n",
        "    shutil.move(os.path.join(source, file_name), dest)\r\n"
      ],
      "execution_count": 6,
      "outputs": []
    },
    {
      "cell_type": "code",
      "metadata": {
        "id": "ZH4UIILyy1D9"
      },
      "source": [
        "import numpy as np\r\n",
        "from tqdm import tqdm\r\n",
        "from random import shuffle\r\n",
        "import cv2\r\n",
        "import os \r\n",
        "from keras.preprocessing.image import ImageDataGenerator \r\n",
        "import tensorflow as tf\r\n",
        "import matplotlib.pyplot as plt\r\n",
        "import pandas as pd"
      ],
      "execution_count": 7,
      "outputs": []
    },
    {
      "cell_type": "code",
      "metadata": {
        "id": "IivF0Q3hxFQl"
      },
      "source": [
        "Train_fire_dir = 'Training/Fire'\r\n",
        "Train_nofire_dir = 'Training/No_Fire'\r\n",
        "Validation_fire_dir ='Validation/Fire'\r\n",
        "Validation_no_fire_dir ='Validation/No_Fire'\r\n",
        "Test_fire_dir = 'Test/Fire'\r\n",
        "Test_nofire_dir = 'Test/No_Fire'\r\n",
        "Train_path = 'Training'\r\n",
        "Test_path = 'Test'\r\n",
        "Validation_path ='Validation'"
      ],
      "execution_count": 8,
      "outputs": []
    },
    {
      "cell_type": "code",
      "metadata": {
        "colab": {
          "base_uri": "https://localhost:8080/"
        },
        "id": "cUNZMATZRfxu",
        "outputId": "30128531-7f23-4054-b629-2ecc5e9370aa"
      },
      "source": [
        "train_datagen = ImageDataGenerator(rescale=1./255,\r\n",
        "                                   rotation_range=10,\r\n",
        "                                   horizontal_flip=True)\r\n",
        "\r\n",
        "validation_datagen = ImageDataGenerator(rescale=1./255)\r\n",
        "\r\n",
        "test_datagen = ImageDataGenerator(rescale=1./255)\r\n",
        "\r\n",
        "train_generator = train_datagen.flow_from_directory(\r\n",
        "    Train_path,\r\n",
        "    target_size=(254, 254),\r\n",
        "    batch_size=32,\r\n",
        "    color_mode='rgb',\r\n",
        "    class_mode='binary',\r\n",
        "    shuffle=True) # set as training data\r\n",
        "\r\n",
        "validation_generator = validation_datagen.flow_from_directory(\r\n",
        "    Validation_path, \r\n",
        "    target_size=(254, 254),\r\n",
        "    color_mode='rgb',\r\n",
        "    batch_size=32,\r\n",
        "    class_mode='binary', shuffle=True) # set as validation data\r\n",
        "\r\n",
        "test_generator = test_datagen.flow_from_directory(\r\n",
        "        Test_path,\r\n",
        "        target_size=(254, 254),\r\n",
        "        color_mode='rgb',\r\n",
        "        batch_size=32,\r\n",
        "        class_mode='binary', shuffle=False)"
      ],
      "execution_count": 9,
      "outputs": [
        {
          "output_type": "stream",
          "text": [
            "Found 31501 images belonging to 2 classes.\n",
            "Found 7874 images belonging to 2 classes.\n",
            "Found 8617 images belonging to 2 classes.\n"
          ],
          "name": "stdout"
        }
      ]
    },
    {
      "cell_type": "code",
      "metadata": {
        "id": "HcavLgT-v6-_",
        "colab": {
          "base_uri": "https://localhost:8080/"
        },
        "outputId": "6d6e4ac0-55f6-4311-f4a9-0297526afaf5"
      },
      "source": [
        "from keras.applications.densenet import DenseNet121\r\n",
        "from keras.models import Sequential\r\n",
        "from keras.layers import GlobalAveragePooling2D\r\n",
        "from keras.layers import Dropout\r\n",
        "from keras.layers import Dense\r\n",
        "\r\n",
        "densenet = DenseNet121(\r\n",
        "    include_top=False,\r\n",
        "    input_shape=(254,254,3))\r\n",
        "model = Sequential()\r\n",
        "model.add(densenet)\r\n",
        "model.add(GlobalAveragePooling2D())\r\n",
        "model.add(Dropout(0.5))\r\n",
        "model.add(Dense(1, activation='sigmoid'))\r\n"
      ],
      "execution_count": 10,
      "outputs": [
        {
          "output_type": "stream",
          "text": [
            "Downloading data from https://storage.googleapis.com/tensorflow/keras-applications/densenet/densenet121_weights_tf_dim_ordering_tf_kernels_notop.h5\n",
            "29089792/29084464 [==============================] - 0s 0us/step\n"
          ],
          "name": "stdout"
        }
      ]
    },
    {
      "cell_type": "code",
      "metadata": {
        "id": "plObZUH0xnpv"
      },
      "source": [
        "from keras.optimizers import Adam\r\n",
        "model.compile(loss='binary_crossentropy',\r\n",
        "              optimizer=Adam(lr=0.00005),\r\n",
        "              metrics=['accuracy'])"
      ],
      "execution_count": 11,
      "outputs": []
    },
    {
      "cell_type": "code",
      "metadata": {
        "colab": {
          "base_uri": "https://localhost:8080/"
        },
        "id": "Bn5TviAc-VRG",
        "outputId": "15d2904d-6097-4c62-ea48-35cfc1572c76"
      },
      "source": [
        "history = model.fit(\r\n",
        "          train_generator,\r\n",
        "          steps_per_epoch = train_generator.samples // 32,\r\n",
        "          validation_data = validation_generator, \r\n",
        "          validation_steps = validation_generator.samples // 32,\r\n",
        "          epochs = 10)"
      ],
      "execution_count": 12,
      "outputs": [
        {
          "output_type": "stream",
          "text": [
            "Epoch 1/10\n",
            "984/984 [==============================] - 619s 611ms/step - loss: 0.0750 - accuracy: 0.9678 - val_loss: 0.0124 - val_accuracy: 0.9977\n",
            "Epoch 2/10\n",
            "984/984 [==============================] - 597s 606ms/step - loss: 0.0071 - accuracy: 0.9980 - val_loss: 0.0025 - val_accuracy: 0.9995\n",
            "Epoch 3/10\n",
            "984/984 [==============================] - 596s 606ms/step - loss: 0.0049 - accuracy: 0.9984 - val_loss: 0.0034 - val_accuracy: 0.9991\n",
            "Epoch 4/10\n",
            "984/984 [==============================] - 597s 607ms/step - loss: 0.0033 - accuracy: 0.9990 - val_loss: 0.0261 - val_accuracy: 0.9930\n",
            "Epoch 5/10\n",
            "984/984 [==============================] - 595s 605ms/step - loss: 0.0048 - accuracy: 0.9988 - val_loss: 0.0027 - val_accuracy: 0.9994\n",
            "Epoch 6/10\n",
            "984/984 [==============================] - 596s 606ms/step - loss: 0.0032 - accuracy: 0.9989 - val_loss: 0.0033 - val_accuracy: 0.9991\n",
            "Epoch 7/10\n",
            "984/984 [==============================] - 596s 605ms/step - loss: 0.0028 - accuracy: 0.9993 - val_loss: 0.0061 - val_accuracy: 0.9986\n",
            "Epoch 8/10\n",
            "984/984 [==============================] - 596s 606ms/step - loss: 0.0030 - accuracy: 0.9991 - val_loss: 0.0035 - val_accuracy: 0.9991\n",
            "Epoch 9/10\n",
            "984/984 [==============================] - 596s 605ms/step - loss: 0.0017 - accuracy: 0.9994 - val_loss: 0.0035 - val_accuracy: 0.9992\n",
            "Epoch 10/10\n",
            "984/984 [==============================] - 596s 606ms/step - loss: 0.0032 - accuracy: 0.9992 - val_loss: 0.0033 - val_accuracy: 0.9992\n"
          ],
          "name": "stdout"
        }
      ]
    },
    {
      "cell_type": "code",
      "metadata": {
        "id": "V2CJ_9WUAjTb"
      },
      "source": [
        "predictions = model.predict(test_generator)\r\n"
      ],
      "execution_count": 13,
      "outputs": []
    },
    {
      "cell_type": "code",
      "metadata": {
        "colab": {
          "base_uri": "https://localhost:8080/"
        },
        "id": "_jkz0cpGZUfA",
        "outputId": "de655747-5152-4f44-ef35-8a7f78b934fe"
      },
      "source": [
        "# import classification_report\r\n",
        "from sklearn.metrics import classification_report\r\n",
        "\r\n",
        "# get the ground truth of your data. \r\n",
        "test_labels=test_generator.classes \r\n",
        "\r\n",
        "# predict the probability distribution of the data\r\n",
        "\r\n",
        "# get the class with highest probability for each sample\r\n",
        "y_pred = [1 * (x[0]>=0.5) for x in predictions]\r\n",
        "\r\n",
        "# get the classification report\r\n",
        "print(classification_report(test_labels, y_pred))"
      ],
      "execution_count": 14,
      "outputs": [
        {
          "output_type": "stream",
          "text": [
            "              precision    recall  f1-score   support\n",
            "\n",
            "           0       0.94      0.88      0.91      5137\n",
            "           1       0.84      0.92      0.87      3480\n",
            "\n",
            "    accuracy                           0.89      8617\n",
            "   macro avg       0.89      0.90      0.89      8617\n",
            "weighted avg       0.90      0.89      0.89      8617\n",
            "\n"
          ],
          "name": "stdout"
        }
      ]
    },
    {
      "cell_type": "code",
      "metadata": {
        "colab": {
          "base_uri": "https://localhost:8080/",
          "height": 295
        },
        "id": "T91u5YiPumRe",
        "outputId": "29325c32-706c-43d3-a923-29e06eb97e17"
      },
      "source": [
        "# summarize history for loss\r\n",
        "plt.plot(history.history['loss'])\r\n",
        "plt.plot(history.history['val_loss'])\r\n",
        "plt.title('model loss')\r\n",
        "plt.ylabel('loss')\r\n",
        "plt.xlabel('epoch')\r\n",
        "plt.legend(['train', 'validation'], loc='upper left')\r\n",
        "plt.show()"
      ],
      "execution_count": 15,
      "outputs": [
        {
          "output_type": "display_data",
          "data": {
            "image/png": "[encoded data removed]",
            "text/plain": [
              "<Figure size 432x288 with 1 Axes>"
            ]
          },
          "metadata": {
            "tags": [],
            "needs_background": "light"
          }
        }
      ]
    },
    {
      "cell_type": "code",
      "metadata": {
        "id": "Y4KU8psYZfvI",
        "colab": {
          "base_uri": "https://localhost:8080/",
          "height": 295
        },
        "outputId": "c739c812-5d48-404c-9f2a-f4902f1555c2"
      },
      "source": [
        "# summarize history for accuracy\r\n",
        "plt.plot(history.history['accuracy'])\r\n",
        "plt.plot(history.history['val_accuracy'])\r\n",
        "plt.title('model accuracy')\r\n",
        "plt.ylabel('accuracy')\r\n",
        "plt.xlabel('epoch')\r\n",
        "plt.legend(['train', 'validation'], loc='upper left')\r\n",
        "plt.show()\r\n"
      ],
      "execution_count": 16,
      "outputs": [
        {
          "output_type": "display_data",
          "data": {
            "image/png": "[encoded data removed]",
            "text/plain": [
              "<Figure size 432x288 with 1 Axes>"
            ]
          },
          "metadata": {
            "tags": [],
            "needs_background": "light"
          }
        }
      ]
    },
    {
      "cell_type": "code",
      "metadata": {
        "id": "jFN15_R9-U5E",
        "colab": {
          "base_uri": "https://localhost:8080/"
        },
        "outputId": "e36d6db0-4250-4a2c-db82-28db5b6f22e7"
      },
      "source": [
        "from keras.applications import Xception\r\n",
        "xception = Xception(\r\n",
        "    include_top=False,\r\n",
        "    input_shape=(254,254,3),\r\n",
        "    classifier_activation=\"sigmoid\")\r\n",
        "model = Sequential()\r\n",
        "model.add(densenet)\r\n",
        "model.add(GlobalAveragePooling2D())\r\n",
        "model.add(Dropout(0.5))\r\n",
        "model.add(Dense(1, activation='sigmoid'))"
      ],
      "execution_count": 17,
      "outputs": [
        {
          "output_type": "stream",
          "text": [
            "Downloading data from https://storage.googleapis.com/tensorflow/keras-applications/xception/xception_weights_tf_dim_ordering_tf_kernels_notop.h5\n",
            "83689472/83683744 [==============================] - 1s 0us/step\n"
          ],
          "name": "stdout"
        }
      ]
    },
    {
      "cell_type": "code",
      "metadata": {
        "id": "xN6V2tOeYPOM"
      },
      "source": [
        "from keras.optimizers import Adam\r\n",
        "model.compile(loss='binary_crossentropy',\r\n",
        "              optimizer=Adam(lr=0.00005),\r\n",
        "              metrics=['accuracy'])"
      ],
      "execution_count": 18,
      "outputs": []
    },
    {
      "cell_type": "code",
      "metadata": {
        "colab": {
          "base_uri": "https://localhost:8080/"
        },
        "id": "gOgOBkpRYR9j",
        "outputId": "c1afac7a-2279-4f26-d45f-fef1c454794e"
      },
      "source": [
        "history = model.fit(\r\n",
        "          train_generator,\r\n",
        "          steps_per_epoch = train_generator.samples // 32,\r\n",
        "          validation_data = validation_generator, \r\n",
        "          validation_steps = validation_generator.samples // 32,\r\n",
        "          epochs = 10)"
      ],
      "execution_count": 19,
      "outputs": [
        {
          "output_type": "stream",
          "text": [
            "Epoch 1/10\n",
            "984/984 [==============================] - 608s 609ms/step - loss: 0.0430 - accuracy: 0.9828 - val_loss: 0.0036 - val_accuracy: 0.9990\n",
            "Epoch 2/10\n",
            "984/984 [==============================] - 597s 606ms/step - loss: 0.0026 - accuracy: 0.9991 - val_loss: 0.0045 - val_accuracy: 0.9991\n",
            "Epoch 3/10\n",
            "984/984 [==============================] - 597s 607ms/step - loss: 0.0020 - accuracy: 0.9995 - val_loss: 0.0030 - val_accuracy: 0.9990\n",
            "Epoch 4/10\n",
            "984/984 [==============================] - 599s 608ms/step - loss: 0.0021 - accuracy: 0.9992 - val_loss: 0.0041 - val_accuracy: 0.9992\n",
            "Epoch 5/10\n",
            "984/984 [==============================] - 599s 608ms/step - loss: 0.0011 - accuracy: 0.9997 - val_loss: 0.0040 - val_accuracy: 0.9991\n",
            "Epoch 6/10\n",
            "984/984 [==============================] - 598s 608ms/step - loss: 0.0032 - accuracy: 0.9992 - val_loss: 0.0041 - val_accuracy: 0.9992\n",
            "Epoch 7/10\n",
            "984/984 [==============================] - 599s 608ms/step - loss: 0.0029 - accuracy: 0.9993 - val_loss: 0.0051 - val_accuracy: 0.9990\n",
            "Epoch 8/10\n",
            "984/984 [==============================] - 597s 606ms/step - loss: 0.0012 - accuracy: 0.9996 - val_loss: 0.0034 - val_accuracy: 0.9992\n",
            "Epoch 9/10\n",
            "984/984 [==============================] - 598s 607ms/step - loss: 0.0027 - accuracy: 0.9995 - val_loss: 0.0041 - val_accuracy: 0.9994\n",
            "Epoch 10/10\n",
            "984/984 [==============================] - 597s 607ms/step - loss: 0.0018 - accuracy: 0.9995 - val_loss: 0.0049 - val_accuracy: 0.9991\n"
          ],
          "name": "stdout"
        }
      ]
    },
    {
      "cell_type": "code",
      "metadata": {
        "id": "SvVAl845YUAd"
      },
      "source": [
        "predictions = model.predict(test_generator)\r\n"
      ],
      "execution_count": 20,
      "outputs": []
    },
    {
      "cell_type": "code",
      "metadata": {
        "colab": {
          "base_uri": "https://localhost:8080/"
        },
        "id": "HduCe0x2Yf8G",
        "outputId": "120578de-a5df-4159-f432-0c1e943bedcd"
      },
      "source": [
        "# import classification_report\r\n",
        "from sklearn.metrics import classification_report\r\n",
        "\r\n",
        "# get the ground truth of your data. \r\n",
        "test_labels=test_generator.classes \r\n",
        "\r\n",
        "# predict the probability distribution of the data\r\n",
        "\r\n",
        "# get the class with highest probability for each sample\r\n",
        "y_pred = [1 * (x[0]>=0.5) for x in predictions]\r\n",
        "\r\n",
        "# get the classification report\r\n",
        "print(classification_report(test_labels, y_pred))"
      ],
      "execution_count": 21,
      "outputs": [
        {
          "output_type": "stream",
          "text": [
            "              precision    recall  f1-score   support\n",
            "\n",
            "           0       0.94      0.89      0.92      5137\n",
            "           1       0.85      0.92      0.89      3480\n",
            "\n",
            "    accuracy                           0.90      8617\n",
            "   macro avg       0.90      0.91      0.90      8617\n",
            "weighted avg       0.91      0.90      0.90      8617\n",
            "\n"
          ],
          "name": "stdout"
        }
      ]
    },
    {
      "cell_type": "code",
      "metadata": {
        "colab": {
          "base_uri": "https://localhost:8080/",
          "height": 295
        },
        "id": "FiI8Gva4YiL-",
        "outputId": "87c8f309-db6f-4105-ec98-0afce19a7775"
      },
      "source": [
        "# summarize history for loss\r\n",
        "plt.plot(history.history['loss'])\r\n",
        "plt.plot(history.history['val_loss'])\r\n",
        "plt.title('model loss')\r\n",
        "plt.ylabel('loss')\r\n",
        "plt.xlabel('epoch')\r\n",
        "plt.legend(['train', 'validation'], loc='upper left')\r\n",
        "plt.show()"
      ],
      "execution_count": 22,
      "outputs": [
        {
          "output_type": "display_data",
          "data": {
            "image/png": "[encoded data removed]",
            "text/plain": [
              "<Figure size 432x288 with 1 Axes>"
            ]
          },
          "metadata": {
            "tags": [],
            "needs_background": "light"
          }
        }
      ]
    },
    {
      "cell_type": "code",
      "metadata": {
        "colab": {
          "base_uri": "https://localhost:8080/",
          "height": 295
        },
        "id": "tE8vHxqcYj2Q",
        "outputId": "e3d64508-b4a3-46a0-c63c-e0fdb9313f5e"
      },
      "source": [
        "# summarize history for accuracy\r\n",
        "plt.plot(history.history['accuracy'])\r\n",
        "plt.plot(history.history['val_accuracy'])\r\n",
        "plt.title('model accuracy')\r\n",
        "plt.ylabel('accuracy')\r\n",
        "plt.xlabel('epoch')\r\n",
        "plt.legend(['train', 'validation'], loc='upper left')\r\n",
        "plt.show()\r\n"
      ],
      "execution_count": 23,
      "outputs": [
        {
          "output_type": "display_data",
          "data": {
            "image/png": "[encoded data removed]",
            "text/plain": [
              "<Figure size 432x288 with 1 Axes>"
            ]
          },
          "metadata": {
            "tags": [],
            "needs_background": "light"
          }
        }
      ]
    },
    {
      "cell_type": "code",
      "metadata": {
        "colab": {
          "base_uri": "https://localhost:8080/"
        },
        "id": "VJzu_InPYlt_",
        "outputId": "6b632904-29d3-4290-d4f8-0d6d450d74ba"
      },
      "source": [
        "from keras.applications import VGG16\r\n",
        "vgg16 = VGG16(\r\n",
        "    include_top=False,\r\n",
        "    input_shape=(254,254,3),\r\n",
        "    classifier_activation=\"sigmoid\")\r\n",
        "model = Sequential()\r\n",
        "model.add(densenet)\r\n",
        "model.add(GlobalAveragePooling2D())\r\n",
        "model.add(Dropout(0.5))\r\n",
        "model.add(Dense(1, activation='sigmoid'))"
      ],
      "execution_count": 24,
      "outputs": [
        {
          "output_type": "stream",
          "text": [
            "Downloading data from https://storage.googleapis.com/tensorflow/keras-applications/vgg16/vgg16_weights_tf_dim_ordering_tf_kernels_notop.h5\n",
            "58892288/58889256 [==============================] - 0s 0us/step\n"
          ],
          "name": "stdout"
        }
      ]
    },
    {
      "cell_type": "code",
      "metadata": {
        "id": "maGxbF6VbTdV"
      },
      "source": [
        "from keras.optimizers import Adam\r\n",
        "model.compile(loss='binary_crossentropy',\r\n",
        "              optimizer=Adam(lr=0.00005),\r\n",
        "              metrics=['accuracy'])"
      ],
      "execution_count": 25,
      "outputs": []
    },
    {
      "cell_type": "code",
      "metadata": {
        "colab": {
          "base_uri": "https://localhost:8080/"
        },
        "id": "WAO2RoDLbXdq",
        "outputId": "3ccb4aa4-1cd3-445f-f515-db481b1ee683"
      },
      "source": [
        "history = model.fit(\r\n",
        "          train_generator,\r\n",
        "          steps_per_epoch = train_generator.samples // 32,\r\n",
        "          validation_data = validation_generator, \r\n",
        "          validation_steps = validation_generator.samples // 32,\r\n",
        "          epochs = 10)"
      ],
      "execution_count": 26,
      "outputs": [
        {
          "output_type": "stream",
          "text": [
            "Epoch 1/10\n",
            "984/984 [==============================] - 608s 609ms/step - loss: 0.0579 - accuracy: 0.9767 - val_loss: 0.0028 - val_accuracy: 0.9994\n",
            "Epoch 2/10\n",
            "984/984 [==============================] - 598s 607ms/step - loss: 0.0013 - accuracy: 0.9997 - val_loss: 0.0025 - val_accuracy: 0.9990\n",
            "Epoch 3/10\n",
            "984/984 [==============================] - 597s 606ms/step - loss: 0.0021 - accuracy: 0.9994 - val_loss: 0.0038 - val_accuracy: 0.9989\n",
            "Epoch 4/10\n",
            "984/984 [==============================] - 596s 606ms/step - loss: 0.0017 - accuracy: 0.9997 - val_loss: 0.0034 - val_accuracy: 0.9994\n",
            "Epoch 5/10\n",
            "984/984 [==============================] - 594s 603ms/step - loss: 0.0015 - accuracy: 0.9994 - val_loss: 0.0032 - val_accuracy: 0.9990\n",
            "Epoch 6/10\n",
            "984/984 [==============================] - 589s 599ms/step - loss: 5.7415e-04 - accuracy: 0.9999 - val_loss: 0.0035 - val_accuracy: 0.9992\n",
            "Epoch 7/10\n",
            "984/984 [==============================] - 597s 607ms/step - loss: 0.0017 - accuracy: 0.9996 - val_loss: 0.0031 - val_accuracy: 0.9991\n",
            "Epoch 8/10\n",
            "984/984 [==============================] - 596s 606ms/step - loss: 0.0011 - accuracy: 0.9998 - val_loss: 0.0033 - val_accuracy: 0.9992\n",
            "Epoch 9/10\n",
            "984/984 [==============================] - 595s 605ms/step - loss: 0.0015 - accuracy: 0.9995 - val_loss: 0.0023 - val_accuracy: 0.9995\n",
            "Epoch 10/10\n",
            "984/984 [==============================] - 597s 607ms/step - loss: 0.0014 - accuracy: 0.9996 - val_loss: 0.0020 - val_accuracy: 0.9995\n"
          ],
          "name": "stdout"
        }
      ]
    },
    {
      "cell_type": "code",
      "metadata": {
        "id": "p2vaTvCmbZp3"
      },
      "source": [
        "predictions = model.predict(test_generator)\r\n"
      ],
      "execution_count": 27,
      "outputs": []
    },
    {
      "cell_type": "code",
      "metadata": {
        "colab": {
          "base_uri": "https://localhost:8080/"
        },
        "id": "UmHNo3B8bber",
        "outputId": "61114da1-2fd5-413e-ed95-8555d86333ef"
      },
      "source": [
        "# import classification_report\r\n",
        "from sklearn.metrics import classification_report\r\n",
        "\r\n",
        "# get the ground truth of your data. \r\n",
        "test_labels=test_generator.classes \r\n",
        "\r\n",
        "# predict the probability distribution of the data\r\n",
        "\r\n",
        "# get the class with highest probability for each sample\r\n",
        "y_pred = [1 * (x[0]>=0.5) for x in predictions]\r\n",
        "\r\n",
        "# get the classification report\r\n",
        "print(classification_report(test_labels, y_pred))"
      ],
      "execution_count": 28,
      "outputs": [
        {
          "output_type": "stream",
          "text": [
            "              precision    recall  f1-score   support\n",
            "\n",
            "           0       0.88      0.95      0.91      5137\n",
            "           1       0.91      0.80      0.85      3480\n",
            "\n",
            "    accuracy                           0.89      8617\n",
            "   macro avg       0.89      0.87      0.88      8617\n",
            "weighted avg       0.89      0.89      0.89      8617\n",
            "\n"
          ],
          "name": "stdout"
        }
      ]
    },
    {
      "cell_type": "code",
      "metadata": {
        "colab": {
          "base_uri": "https://localhost:8080/",
          "height": 295
        },
        "id": "2Zt0N128bdBA",
        "outputId": "04891f19-836e-4341-b089-6ce62587aea8"
      },
      "source": [
        "# summarize history for loss\r\n",
        "plt.plot(history.history['loss'])\r\n",
        "plt.plot(history.history['val_loss'])\r\n",
        "plt.title('model loss')\r\n",
        "plt.ylabel('loss')\r\n",
        "plt.xlabel('epoch')\r\n",
        "plt.legend(['train', 'validation'], loc='upper left')\r\n",
        "plt.show()"
      ],
      "execution_count": 29,
      "outputs": [
        {
          "output_type": "display_data",
          "data": {
            "image/png": "[encoded data removed]",
            "text/plain": [
              "<Figure size 432x288 with 1 Axes>"
            ]
          },
          "metadata": {
            "tags": [],
            "needs_background": "light"
          }
        }
      ]
    },
    {
      "cell_type": "code",
      "metadata": {
        "colab": {
          "base_uri": "https://localhost:8080/",
          "height": 295
        },
        "id": "fT_rvnpUbfE0",
        "outputId": "711309f0-aed1-451c-bcda-3e4ab37fb9f4"
      },
      "source": [
        "# summarize history for accuracy\r\n",
        "plt.plot(history.history['accuracy'])\r\n",
        "plt.plot(history.history['val_accuracy'])\r\n",
        "plt.title('model accuracy')\r\n",
        "plt.ylabel('accuracy')\r\n",
        "plt.xlabel('epoch')\r\n",
        "plt.legend(['train', 'validation'], loc='upper left')\r\n",
        "plt.show()\r\n"
      ],
      "execution_count": 30,
      "outputs": [
        {
          "output_type": "display_data",
          "data": {
            "image/png": "[encoded data removed]",
            "text/plain": [
              "<Figure size 432x288 with 1 Axes>"
            ]
          },
          "metadata": {
            "tags": [],
            "needs_background": "light"
          }
        }
      ]
    },
    {
      "cell_type": "code",
      "metadata": {
        "colab": {
          "base_uri": "https://localhost:8080/"
        },
        "id": "-7a9N64zbgmi",
        "outputId": "40cc7a9c-f55d-492b-a544-4b3dd45a0a00"
      },
      "source": [
        "from keras.applications import ResNet101\r\n",
        "\r\n",
        "resnet = ResNet101(\r\n",
        "    include_top=False,\r\n",
        "    input_shape=(254,254,3))\r\n",
        "model = Sequential()\r\n",
        "model.add(densenet)\r\n",
        "model.add(GlobalAveragePooling2D())\r\n",
        "model.add(Dropout(0.5))\r\n",
        "model.add(Dense(1, activation='sigmoid'))"
      ],
      "execution_count": 31,
      "outputs": [
        {
          "output_type": "stream",
          "text": [
            "Downloading data from https://storage.googleapis.com/tensorflow/keras-applications/resnet/resnet101_weights_tf_dim_ordering_tf_kernels_notop.h5\n",
            "171450368/171446536 [==============================] - 1s 0us/step\n"
          ],
          "name": "stdout"
        }
      ]
    },
    {
      "cell_type": "code",
      "metadata": {
        "id": "PdQI_0HYb18U"
      },
      "source": [
        "from keras.optimizers import Adam\r\n",
        "model.compile(loss='binary_crossentropy',\r\n",
        "              optimizer=Adam(lr=0.00005),\r\n",
        "              metrics=['accuracy'])"
      ],
      "execution_count": 32,
      "outputs": []
    },
    {
      "cell_type": "code",
      "metadata": {
        "colab": {
          "base_uri": "https://localhost:8080/"
        },
        "id": "6Abt5D1db4Ub",
        "outputId": "d1c5b2e3-5c98-41c8-85fc-fd63b1db3801"
      },
      "source": [
        "history = model.fit(\r\n",
        "          train_generator,\r\n",
        "          steps_per_epoch = train_generator.samples // 32,\r\n",
        "          validation_data = validation_generator, \r\n",
        "          validation_steps = validation_generator.samples // 32,\r\n",
        "          epochs = 10)"
      ],
      "execution_count": 33,
      "outputs": [
        {
          "output_type": "stream",
          "text": [
            "Epoch 1/10\n",
            "984/984 [==============================] - 610s 610ms/step - loss: 0.0764 - accuracy: 0.9634 - val_loss: 0.0020 - val_accuracy: 0.9994\n",
            "Epoch 2/10\n",
            "984/984 [==============================] - 598s 608ms/step - loss: 0.0010 - accuracy: 0.9998 - val_loss: 0.0060 - val_accuracy: 0.9990\n",
            "Epoch 3/10\n",
            "984/984 [==============================] - 597s 606ms/step - loss: 0.0031 - accuracy: 0.9994 - val_loss: 0.0025 - val_accuracy: 0.9991\n",
            "Epoch 4/10\n",
            "984/984 [==============================] - 597s 607ms/step - loss: 0.0017 - accuracy: 0.9994 - val_loss: 0.0035 - val_accuracy: 0.9991\n",
            "Epoch 5/10\n",
            "984/984 [==============================] - 598s 607ms/step - loss: 0.0010 - accuracy: 0.9994 - val_loss: 0.0025 - val_accuracy: 0.9992\n",
            "Epoch 6/10\n",
            "984/984 [==============================] - 598s 608ms/step - loss: 7.8002e-04 - accuracy: 0.9997 - val_loss: 0.0048 - val_accuracy: 0.9995\n",
            "Epoch 7/10\n",
            "984/984 [==============================] - 599s 608ms/step - loss: 5.2609e-04 - accuracy: 0.9999 - val_loss: 0.0070 - val_accuracy: 0.9991\n",
            "Epoch 8/10\n",
            "984/984 [==============================] - 597s 607ms/step - loss: 0.0027 - accuracy: 0.9992 - val_loss: 0.0037 - val_accuracy: 0.9992\n",
            "Epoch 9/10\n",
            "984/984 [==============================] - 598s 608ms/step - loss: 4.9777e-04 - accuracy: 0.9999 - val_loss: 0.0021 - val_accuracy: 0.9992\n",
            "Epoch 10/10\n",
            "984/984 [==============================] - 596s 606ms/step - loss: 7.9202e-04 - accuracy: 0.9998 - val_loss: 0.0034 - val_accuracy: 0.9991\n"
          ],
          "name": "stdout"
        }
      ]
    },
    {
      "cell_type": "code",
      "metadata": {
        "id": "-Cn_jOC_b6d1"
      },
      "source": [
        "predictions = model.predict(test_generator)\r\n"
      ],
      "execution_count": 34,
      "outputs": []
    },
    {
      "cell_type": "code",
      "metadata": {
        "colab": {
          "base_uri": "https://localhost:8080/"
        },
        "id": "TkaapofSb714",
        "outputId": "d3e8e12d-dd1e-4df2-d0cc-2a6ea16edd72"
      },
      "source": [
        "# import classification_report\r\n",
        "from sklearn.metrics import classification_report\r\n",
        "\r\n",
        "# get the ground truth of your data. \r\n",
        "test_labels=test_generator.classes \r\n",
        "\r\n",
        "# predict the probability distribution of the data\r\n",
        "\r\n",
        "# get the class with highest probability for each sample\r\n",
        "y_pred = [1 * (x[0]>=0.5) for x in predictions]\r\n",
        "\r\n",
        "# get the classification report\r\n",
        "print(classification_report(test_labels, y_pred))"
      ],
      "execution_count": 35,
      "outputs": [
        {
          "output_type": "stream",
          "text": [
            "              precision    recall  f1-score   support\n",
            "\n",
            "           0       0.93      0.87      0.90      5137\n",
            "           1       0.82      0.90      0.86      3480\n",
            "\n",
            "    accuracy                           0.88      8617\n",
            "   macro avg       0.88      0.88      0.88      8617\n",
            "weighted avg       0.89      0.88      0.88      8617\n",
            "\n"
          ],
          "name": "stdout"
        }
      ]
    },
    {
      "cell_type": "code",
      "metadata": {
        "colab": {
          "base_uri": "https://localhost:8080/",
          "height": 295
        },
        "id": "SkoKsWD3b9xh",
        "outputId": "511c3bdf-eb61-4eb3-9b8d-d165d61e58e0"
      },
      "source": [
        "# summarize history for loss\r\n",
        "plt.plot(history.history['loss'])\r\n",
        "plt.plot(history.history['val_loss'])\r\n",
        "plt.title('model loss')\r\n",
        "plt.ylabel('loss')\r\n",
        "plt.xlabel('epoch')\r\n",
        "plt.legend(['train', 'validation'], loc='upper left')\r\n",
        "plt.show()"
      ],
      "execution_count": 36,
      "outputs": [
        {
          "output_type": "display_data",
          "data": {
            "image/png": "[encoded data removed]",
            "text/plain": [
              "<Figure size 432x288 with 1 Axes>"
            ]
          },
          "metadata": {
            "tags": [],
            "needs_background": "light"
          }
        }
      ]
    },
    {
      "cell_type": "code",
      "metadata": {
        "colab": {
          "base_uri": "https://localhost:8080/",
          "height": 295
        },
        "id": "nrp7NtsUb_Cz",
        "outputId": "db215ae0-4c88-49da-a7b1-124b9d711b2e"
      },
      "source": [
        "# summarize history for accuracy\r\n",
        "plt.plot(history.history['accuracy'])\r\n",
        "plt.plot(history.history['val_accuracy'])\r\n",
        "plt.title('model accuracy')\r\n",
        "plt.ylabel('accuracy')\r\n",
        "plt.xlabel('epoch')\r\n",
        "plt.legend(['train', 'validation'], loc='upper left')\r\n",
        "plt.show()\r\n"
      ],
      "execution_count": 37,
      "outputs": [
        {
          "output_type": "display_data",
          "data": {
            "image/png": "[encoded data removed]",
            "text/plain": [
              "<Figure size 432x288 with 1 Axes>"
            ]
          },
          "metadata": {
            "tags": [],
            "needs_background": "light"
          }
        }
      ]
    },
    {
      "cell_type": "code",
      "metadata": {
        "id": "4CH_vVY0cAmB"
      },
      "source": [
        ""
      ],
      "execution_count": 37,
      "outputs": []
    }
  ]
}