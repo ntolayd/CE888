{
  "nbformat": 4,
  "nbformat_minor": 0,
  "metadata": {
    "colab": {
      "name": "forestfire.ipynb",
      "provenance": [],
      "collapsed_sections": [],
      "authorship_tag": "ABX9TyPox4avrUr3MZE48rRacx/2",
      "include_colab_link": true
    },
    "kernelspec": {
      "name": "python3",
      "display_name": "Python 3"
    },
    "accelerator": "GPU"
  },
  "cells": [
    {
      "cell_type": "markdown",
      "metadata": {
        "id": "view-in-github",
        "colab_type": "text"
      },
      "source": [
        "<a href=\"https://colab.research.google.com/github/ntolayd/CE888/blob/main/Assignment/forestfire.ipynb\" target=\"_parent\"><img src=\"https://colab.research.google.com/assets/colab-badge.svg\" alt=\"Open In Colab\"/></a>"
      ]
    },
    {
      "cell_type": "code",
      "metadata": {
        "colab": {
          "base_uri": "https://localhost:8080/"
        },
        "id": "9EhLGDVxvawB",
        "outputId": "7f8ba103-6a2c-4d20-9abd-556db1d01b1e"
      },
      "source": [
        "from google.colab import drive\r\n",
        "drive.mount('/content/gdrive')"
      ],
      "execution_count": 1,
      "outputs": [
        {
          "output_type": "stream",
          "text": [
            "Mounted at /content/gdrive\n"
          ],
          "name": "stdout"
        }
      ]
    },
    {
      "cell_type": "code",
      "metadata": {
        "id": "YDHeK9qnvdD8"
      },
      "source": [
        "!unzip \"/content/gdrive/My Drive/Test.zip\"\r\n",
        "!unzip \"/content/gdrive/My Drive/Training.zip\""
      ],
      "execution_count": null,
      "outputs": []
    },
    {
      "cell_type": "code",
      "metadata": {
        "id": "ZH4UIILyy1D9"
      },
      "source": [
        "import numpy as np\r\n",
        "from tqdm import tqdm\r\n",
        "from random import shuffle\r\n",
        "import cv2\r\n",
        "import os \r\n",
        "from keras.preprocessing.image import ImageDataGenerator \r\n",
        "import tensorflow as tf\r\n",
        "import matplotlib.pyplot as plt\r\n",
        "import pandas as pd"
      ],
      "execution_count": 3,
      "outputs": []
    },
    {
      "cell_type": "code",
      "metadata": {
        "id": "IivF0Q3hxFQl"
      },
      "source": [
        "Train_fire_dir = 'Training/Fire'\r\n",
        "Train_nofire_dir = 'Training/No_Fire'\r\n",
        "Test_fire_dir = 'Test/Fire'\r\n",
        "Test_nofire_dir = 'Test/No_Fire'\r\n",
        "Train_path = 'Training'\r\n",
        "Test_path = 'Test'"
      ],
      "execution_count": 4,
      "outputs": []
    },
    {
      "cell_type": "code",
      "metadata": {
        "colab": {
          "base_uri": "https://localhost:8080/"
        },
        "id": "cUNZMATZRfxu",
        "outputId": "3076536a-c232-4777-cfaa-30b87b08f7c3"
      },
      "source": [
        "train_datagen = ImageDataGenerator(rescale=1./255, validation_split=0.2)\r\n",
        "\r\n",
        "test_datagen = ImageDataGenerator(rescale=1./255)\r\n",
        "\r\n",
        "train_generator = train_datagen.flow_from_directory(\r\n",
        "    Train_path,\r\n",
        "    target_size=(254, 254),\r\n",
        "    batch_size=32,\r\n",
        "    class_mode='binary',\r\n",
        "    subset='training',shuffle=True) # set as training data\r\n",
        "\r\n",
        "validation_generator = train_datagen.flow_from_directory(\r\n",
        "    Train_path, # same directory as training data\r\n",
        "    target_size=(254, 254),\r\n",
        "    batch_size=32,\r\n",
        "    class_mode='binary',\r\n",
        "    subset='validation',shuffle=True) # set as validation data\r\n",
        "\r\n",
        "test_generator = test_datagen.flow_from_directory(\r\n",
        "        Test_path,\r\n",
        "        batch_size=32,\r\n",
        "        class_mode='binary', shuffle=False)"
      ],
      "execution_count": 5,
      "outputs": [
        {
          "output_type": "stream",
          "text": [
            "Found 31501 images belonging to 2 classes.\n",
            "Found 7874 images belonging to 2 classes.\n",
            "Found 8617 images belonging to 2 classes.\n"
          ],
          "name": "stdout"
        }
      ]
    },
    {
      "cell_type": "code",
      "metadata": {
        "colab": {
          "base_uri": "https://localhost:8080/"
        },
        "id": "HcavLgT-v6-_",
        "outputId": "b72664c1-5a08-4d42-ee6a-289cf3b36525"
      },
      "source": [
        "from keras.applications.densenet import DenseNet121\r\n",
        "from keras.models import Sequential\r\n",
        "from keras.layers import GlobalAveragePooling2D\r\n",
        "from keras.layers import Dropout\r\n",
        "from keras.layers import Dense\r\n",
        "\r\n",
        "densenet = DenseNet121(\r\n",
        "    include_top=False,\r\n",
        "    input_shape=(254,254,3))\r\n",
        "model = Sequential()\r\n",
        "model.add(densenet)\r\n",
        "model.add(GlobalAveragePooling2D())\r\n",
        "model.add(Dropout(0.5))\r\n",
        "model.add(Dense(1, activation='sigmoid'))\r\n"
      ],
      "execution_count": 7,
      "outputs": [
        {
          "output_type": "stream",
          "text": [
            "Downloading data from https://storage.googleapis.com/tensorflow/keras-applications/densenet/densenet121_weights_tf_dim_ordering_tf_kernels_notop.h5\n",
            "29089792/29084464 [==============================] - 0s 0us/step\n"
          ],
          "name": "stdout"
        }
      ]
    },
    {
      "cell_type": "code",
      "metadata": {
        "id": "plObZUH0xnpv"
      },
      "source": [
        "from keras.optimizers import Adam\r\n",
        "model.compile(loss='binary_crossentropy',\r\n",
        "              optimizer=Adam(lr=0.00005),\r\n",
        "              metrics=['accuracy'])"
      ],
      "execution_count": 8,
      "outputs": []
    },
    {
      "cell_type": "code",
      "metadata": {
        "colab": {
          "base_uri": "https://localhost:8080/"
        },
        "id": "aXXivz2bdkEx",
        "outputId": "623691b8-bfd5-40d0-98e2-2bf5f08b78a1"
      },
      "source": [
        "model.summary()"
      ],
      "execution_count": 9,
      "outputs": [
        {
          "output_type": "stream",
          "text": [
            "Model: \"sequential\"\n",
            "_________________________________________________________________\n",
            "Layer (type)                 Output Shape              Param #   \n",
            "=================================================================\n",
            "densenet121 (Functional)     (None, 8, 8, 1024)        7037504   \n",
            "_________________________________________________________________\n",
            "global_average_pooling2d (Gl (None, 1024)              0         \n",
            "_________________________________________________________________\n",
            "dropout (Dropout)            (None, 1024)              0         \n",
            "_________________________________________________________________\n",
            "dense (Dense)                (None, 1)                 1025      \n",
            "=================================================================\n",
            "Total params: 7,038,529\n",
            "Trainable params: 6,954,881\n",
            "Non-trainable params: 83,648\n",
            "_________________________________________________________________\n"
          ],
          "name": "stdout"
        }
      ]
    },
    {
      "cell_type": "code",
      "metadata": {
        "colab": {
          "base_uri": "https://localhost:8080/"
        },
        "id": "Bn5TviAc-VRG",
        "outputId": "b27ef02f-5a69-4181-99ba-53c33f36bbf2"
      },
      "source": [
        "history = model.fit_generator(\r\n",
        "          train_generator,\r\n",
        "          steps_per_epoch = train_generator.samples // 32,\r\n",
        "          validation_data = validation_generator, \r\n",
        "          validation_steps = validation_generator.samples // 32,\r\n",
        "          epochs = 5)"
      ],
      "execution_count": 10,
      "outputs": [
        {
          "output_type": "stream",
          "text": [
            "/usr/local/lib/python3.6/dist-packages/tensorflow/python/keras/engine/training.py:1844: UserWarning: `Model.fit_generator` is deprecated and will be removed in a future version. Please use `Model.fit`, which supports generators.\n",
            "  warnings.warn('`Model.fit_generator` is deprecated and '\n"
          ],
          "name": "stderr"
        },
        {
          "output_type": "stream",
          "text": [
            "Epoch 1/5\n",
            "984/984 [==============================] - 477s 467ms/step - loss: 0.0693 - accuracy: 0.9716 - val_loss: 0.0241 - val_accuracy: 0.9949\n",
            "Epoch 2/5\n",
            "984/984 [==============================] - 471s 478ms/step - loss: 0.0019 - accuracy: 0.9996 - val_loss: 0.0672 - val_accuracy: 0.9804\n",
            "Epoch 3/5\n",
            "984/984 [==============================] - 470s 478ms/step - loss: 0.0019 - accuracy: 0.9995 - val_loss: 0.0309 - val_accuracy: 0.9928\n",
            "Epoch 4/5\n",
            "984/984 [==============================] - 471s 479ms/step - loss: 0.0015 - accuracy: 0.9997 - val_loss: 0.0530 - val_accuracy: 0.9841\n",
            "Epoch 5/5\n",
            "984/984 [==============================] - 472s 479ms/step - loss: 1.8754e-04 - accuracy: 1.0000 - val_loss: 0.0746 - val_accuracy: 0.9820\n"
          ],
          "name": "stdout"
        }
      ]
    },
    {
      "cell_type": "code",
      "metadata": {
        "colab": {
          "base_uri": "https://localhost:8080/"
        },
        "id": "V2CJ_9WUAjTb",
        "outputId": "926b06d6-8408-4bc6-9d27-500376136bc2"
      },
      "source": [
        "predictions = model.predict_generator(test_generator)\r\n"
      ],
      "execution_count": 11,
      "outputs": [
        {
          "output_type": "stream",
          "text": [
            "/usr/local/lib/python3.6/dist-packages/tensorflow/python/keras/engine/training.py:1905: UserWarning: `Model.predict_generator` is deprecated and will be removed in a future version. Please use `Model.predict`, which supports generators.\n",
            "  warnings.warn('`Model.predict_generator` is deprecated and '\n"
          ],
          "name": "stderr"
        }
      ]
    },
    {
      "cell_type": "code",
      "metadata": {
        "colab": {
          "base_uri": "https://localhost:8080/"
        },
        "id": "_jkz0cpGZUfA",
        "outputId": "eeb5add3-59dc-44f8-8b3c-f886aa242edf"
      },
      "source": [
        "# import classification_report\r\n",
        "from sklearn.metrics import classification_report\r\n",
        "\r\n",
        "# get the ground truth of your data. \r\n",
        "test_labels=test_generator.classes \r\n",
        "\r\n",
        "# predict the probability distribution of the data\r\n",
        "\r\n",
        "# get the class with highest probability for each sample\r\n",
        "y_pred = [1 * (x[0]>=0.5) for x in predictions]\r\n",
        "\r\n",
        "# get the classification report\r\n",
        "print(classification_report(test_labels, y_pred))"
      ],
      "execution_count": 14,
      "outputs": [
        {
          "output_type": "stream",
          "text": [
            "              precision    recall  f1-score   support\n",
            "\n",
            "           0       0.92      0.88      0.90      5137\n",
            "           1       0.84      0.89      0.86      3480\n",
            "\n",
            "    accuracy                           0.88      8617\n",
            "   macro avg       0.88      0.88      0.88      8617\n",
            "weighted avg       0.89      0.88      0.88      8617\n",
            "\n"
          ],
          "name": "stdout"
        }
      ]
    },
    {
      "cell_type": "code",
      "metadata": {
        "id": "Y4KU8psYZfvI"
      },
      "source": [
        ""
      ],
      "execution_count": null,
      "outputs": []
    }
  ]
}