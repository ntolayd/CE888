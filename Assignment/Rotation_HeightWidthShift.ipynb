{
  "nbformat": 4,
  "nbformat_minor": 0,
  "metadata": {
    "accelerator": "GPU",
    "colab": {
      "name": "fire_classification_rotation_heightwidthshift",
      "provenance": [],
      "collapsed_sections": [],
      "machine_shape": "hm",
      "authorship_tag": "ABX9TyOpUdAG9HxBOiii1HEfJObw",
      "include_colab_link": true
    },
    "kernelspec": {
      "display_name": "Python 3",
      "name": "python3"
    }
  },
  "cells": [
    {
      "cell_type": "markdown",
      "metadata": {
        "id": "view-in-github",
        "colab_type": "text"
      },
      "source": [
        "<a href=\"https://colab.research.google.com/github/ntolayd/CE888/blob/main/Assignment/Rotation_HeightWidthShift.ipynb\" target=\"_parent\"><img src=\"https://colab.research.google.com/assets/colab-badge.svg\" alt=\"Open In Colab\"/></a>"
      ]
    },
    {
      "cell_type": "code",
      "metadata": {
        "colab": {
          "base_uri": "https://localhost:8080/"
        },
        "id": "9EhLGDVxvawB",
        "outputId": "781a17c7-9a10-430c-dae5-f3a05e9541e5"
      },
      "source": [
        "from google.colab import drive\n",
        "drive.mount('/content/gdrive')"
      ],
      "execution_count": null,
      "outputs": [
        {
          "output_type": "stream",
          "text": [
            "Mounted at /content/gdrive\n"
          ],
          "name": "stdout"
        }
      ]
    },
    {
      "cell_type": "code",
      "metadata": {
        "id": "YDHeK9qnvdD8"
      },
      "source": [
        "!unzip \"/content/gdrive/My Drive/Test.zip\"\n",
        "!unzip \"/content/gdrive/My Drive/Training.zip\""
      ],
      "execution_count": null,
      "outputs": []
    },
    {
      "cell_type": "code",
      "metadata": {
        "id": "iLVyF4nXSvoW"
      },
      "source": [
        "import os \n",
        "import random\n",
        "import shutil"
      ],
      "execution_count": null,
      "outputs": []
    },
    {
      "cell_type": "code",
      "metadata": {
        "id": "MK29LTT7t91W"
      },
      "source": [
        "os.mkdir('Validation')\n",
        "os.mkdir('Validation/Fire')\n",
        "os.mkdir('Validation/No_Fire')"
      ],
      "execution_count": null,
      "outputs": []
    },
    {
      "cell_type": "code",
      "metadata": {
        "id": "R5UWXTtIRrKI"
      },
      "source": [
        "#Creating validation folder and moving randomly selected images from traning folder to validation folder\n",
        "random.seed(126)\n",
        "source = 'Training/Fire'\n",
        "dest = 'Validation/Fire'\n",
        "files = os.listdir(source)\n",
        "no_of_files = len(files) // 6\n",
        "\n",
        "for file_name in random.sample(files, no_of_files):\n",
        "    shutil.move(os.path.join(source, file_name), dest)\n"
      ],
      "execution_count": null,
      "outputs": []
    },
    {
      "cell_type": "code",
      "metadata": {
        "id": "v3huqs0vR-LV"
      },
      "source": [
        "#Creating validation folder and moving randomly selected images from traning folder to validation folder\n",
        "random.seed(19)\n",
        "source = 'Training/No_Fire'\n",
        "dest = 'Validation/No_Fire'\n",
        "files = os.listdir(source)\n",
        "no_of_files = len(files) // 6\n",
        "\n",
        "for file_name in random.sample(files, no_of_files):\n",
        "    shutil.move(os.path.join(source, file_name), dest)\n"
      ],
      "execution_count": null,
      "outputs": []
    },
    {
      "cell_type": "code",
      "metadata": {
        "id": "ZH4UIILyy1D9"
      },
      "source": [
        "import numpy as np\n",
        "from tqdm import tqdm\n",
        "from random import shuffle\n",
        "import cv2\n",
        "import os \n",
        "from tensorflow.keras.preprocessing.image import ImageDataGenerator\n",
        "import tensorflow as tf\n",
        "import matplotlib.pyplot as plt\n",
        "import pandas as pd\n",
        "from keras.models import Sequential\n",
        "from keras.layers import GlobalAveragePooling2D, Flatten, Conv2D, MaxPooling2D\n",
        "from keras.layers import Dropout\n",
        "from keras.layers import Dense\n",
        "from keras.optimizers import Adam, RMSprop\n",
        "from sklearn.metrics import classification_report\n",
        "from skimage.color import rgb2hsv\n",
        "import skimage"
      ],
      "execution_count": null,
      "outputs": []
    },
    {
      "cell_type": "code",
      "metadata": {
        "id": "IivF0Q3hxFQl"
      },
      "source": [
        "Train_path = 'Training'\n",
        "Test_path = 'Test'\n",
        "Validation_path ='Validation'"
      ],
      "execution_count": null,
      "outputs": []
    },
    {
      "cell_type": "code",
      "metadata": {
        "id": "5mNfR3nHHuz6"
      },
      "source": [
        "from skimage.color import rgb2hsv\n",
        "def color_aug(img):\n",
        "  img = img / 255\n",
        "  new_img = rgb2hsv(img) * 255\n",
        "  return new_img"
      ],
      "execution_count": null,
      "outputs": []
    },
    {
      "cell_type": "code",
      "metadata": {
        "id": "fDlqfGF-H4ks"
      },
      "source": [
        "def noise(img):\n",
        "    img = img / 255\n",
        "    gimg = skimage.util.random_noise(img, mode='poisson') * 255\n",
        "    return gimg "
      ],
      "execution_count": null,
      "outputs": []
    },
    {
      "cell_type": "code",
      "metadata": {
        "colab": {
          "base_uri": "https://localhost:8080/"
        },
        "id": "cUNZMATZRfxu",
        "outputId": "0e8d4672-9c72-4ee4-b7c7-5d424e0d6854"
      },
      "source": [
        "train_datagen = ImageDataGenerator(rescale=1./255,\n",
        "                                   rotation_range=45,\n",
        "                                   width_shift_range=0.2,\n",
        "                                   height_shift_range=0.2,\n",
        "                                   fill_mode='reflect'\n",
        "                                   )\n",
        "\n",
        "validation_datagen = ImageDataGenerator(rescale=1./255)\n",
        "\n",
        "test_datagen = ImageDataGenerator(rescale=1./255)\n",
        "\n",
        "train_generator = train_datagen.flow_from_directory(\n",
        "    Train_path,\n",
        "    target_size=(254, 254),\n",
        "    batch_size=64,\n",
        "    color_mode='rgb',\n",
        "    class_mode='binary',\n",
        "    shuffle=True) # set as training data\n",
        "\n",
        "validation_generator = validation_datagen.flow_from_directory(\n",
        "    Validation_path, \n",
        "    target_size=(254, 254),\n",
        "    color_mode='rgb',\n",
        "    batch_size=64,\n",
        "    class_mode='binary', shuffle=False) # set as validation data\n",
        "\n",
        "test_generator = test_datagen.flow_from_directory(\n",
        "        Test_path,\n",
        "        target_size=(254, 254),\n",
        "        color_mode='rgb',\n",
        "        batch_size=1,\n",
        "        class_mode='binary', shuffle=False)"
      ],
      "execution_count": null,
      "outputs": [
        {
          "output_type": "stream",
          "text": [
            "Found 32814 images belonging to 2 classes.\n",
            "Found 6561 images belonging to 2 classes.\n",
            "Found 8617 images belonging to 2 classes.\n"
          ],
          "name": "stdout"
        }
      ]
    },
    {
      "cell_type": "code",
      "metadata": {
        "colab": {
          "base_uri": "https://localhost:8080/"
        },
        "id": "mVluLnzGC2vK",
        "outputId": "6003e1eb-2d07-4c47-a714-25648481198d"
      },
      "source": [
        "train_generator.class_indices"
      ],
      "execution_count": null,
      "outputs": [
        {
          "output_type": "execute_result",
          "data": {
            "text/plain": [
              "{'Fire': 0, 'No_Fire': 1}"
            ]
          },
          "metadata": {
            "tags": []
          },
          "execution_count": 13
        }
      ]
    },
    {
      "cell_type": "markdown",
      "metadata": {
        "id": "9KzWaInh7XbN"
      },
      "source": [
        "**Xception**"
      ]
    },
    {
      "cell_type": "code",
      "metadata": {
        "colab": {
          "base_uri": "https://localhost:8080/"
        },
        "id": "95eWg9i1kRFe",
        "outputId": "bdcd7e9d-5995-492f-e608-18f61c74f464"
      },
      "source": [
        "from keras.applications import Xception\n",
        "\n",
        "\n",
        "xcep = Xception(\n",
        "    include_top=False,\n",
        "    input_shape=(254,254,3))\n",
        "model = Sequential()\n",
        "model.add(xcep)\n",
        "model.add(GlobalAveragePooling2D())\n",
        "model.add(Dropout(0.6))\n",
        "model.add(Dense(512, activation='relu'))\n",
        "model.add(Dropout(0.6))\n",
        "model.add(Dense(1, activation='sigmoid'))\n",
        "\n",
        "model.compile(loss='binary_crossentropy',\n",
        "              optimizer=RMSprop(lr=0.000075),\n",
        "              metrics=['accuracy'])"
      ],
      "execution_count": null,
      "outputs": [
        {
          "output_type": "stream",
          "text": [
            "Downloading data from https://storage.googleapis.com/tensorflow/keras-applications/xception/xception_weights_tf_dim_ordering_tf_kernels_notop.h5\n",
            "83689472/83683744 [==============================] - 0s 0us/step\n"
          ],
          "name": "stdout"
        }
      ]
    },
    {
      "cell_type": "code",
      "metadata": {
        "colab": {
          "base_uri": "https://localhost:8080/"
        },
        "id": "JSbNCvvHkQ26",
        "outputId": "9c87cd90-0251-417a-be3f-355edf5492f7"
      },
      "source": [
        "history = model.fit(\n",
        "          train_generator,\n",
        "          steps_per_epoch = train_generator.samples // 64,\n",
        "          validation_data = validation_generator, \n",
        "          validation_steps = validation_generator.samples // 64,\n",
        "          epochs = 5)"
      ],
      "execution_count": null,
      "outputs": [
        {
          "output_type": "stream",
          "text": [
            "Epoch 1/5\n",
            "512/512 [==============================] - 526s 981ms/step - loss: 0.0940 - accuracy: 0.9635 - val_loss: 0.0107 - val_accuracy: 0.9972\n",
            "Epoch 2/5\n",
            "512/512 [==============================] - 501s 976ms/step - loss: 0.0105 - accuracy: 0.9962 - val_loss: 0.0225 - val_accuracy: 0.9971\n",
            "Epoch 3/5\n",
            "512/512 [==============================] - 501s 977ms/step - loss: 0.0089 - accuracy: 0.9975 - val_loss: 0.0077 - val_accuracy: 0.9979\n",
            "Epoch 4/5\n",
            "512/512 [==============================] - 501s 976ms/step - loss: 0.0102 - accuracy: 0.9974 - val_loss: 0.0087 - val_accuracy: 0.9982\n",
            "Epoch 5/5\n",
            "512/512 [==============================] - 500s 976ms/step - loss: 0.0110 - accuracy: 0.9978 - val_loss: 0.0108 - val_accuracy: 0.9985\n"
          ],
          "name": "stdout"
        }
      ]
    },
    {
      "cell_type": "code",
      "metadata": {
        "id": "yLHJfbkckQjq"
      },
      "source": [
        "predictions = model.predict(test_generator)\n"
      ],
      "execution_count": null,
      "outputs": []
    },
    {
      "cell_type": "code",
      "metadata": {
        "colab": {
          "base_uri": "https://localhost:8080/"
        },
        "id": "Tl9sfA5Fkdv6",
        "outputId": "bc586c2b-4f9a-49fd-d8c0-80a4e3306b31"
      },
      "source": [
        "\n",
        "test_labels=test_generator.classes \n",
        "\n",
        "y_pred = [1 * (x[0]>=0.5) for x in predictions]\n",
        "\n",
        "print(classification_report(test_labels, y_pred))"
      ],
      "execution_count": null,
      "outputs": [
        {
          "output_type": "stream",
          "text": [
            "              precision    recall  f1-score   support\n",
            "\n",
            "           0       0.68      0.88      0.77      5137\n",
            "           1       0.69      0.39      0.50      3480\n",
            "\n",
            "    accuracy                           0.68      8617\n",
            "   macro avg       0.69      0.64      0.63      8617\n",
            "weighted avg       0.68      0.68      0.66      8617\n",
            "\n"
          ],
          "name": "stdout"
        }
      ]
    },
    {
      "cell_type": "code",
      "metadata": {
        "colab": {
          "base_uri": "https://localhost:8080/",
          "height": 295
        },
        "id": "vmEHAVTOkgYX",
        "outputId": "41dff05f-5a65-4fdf-aa5b-ecf0ebe65173"
      },
      "source": [
        "# summarize history for loss\n",
        "plt.plot(history.history['loss'])\n",
        "plt.plot(history.history['val_loss'])\n",
        "plt.title('model loss')\n",
        "plt.ylabel('loss')\n",
        "plt.xlabel('epoch')\n",
        "plt.legend(['train', 'validation'], loc='upper left')\n",
        "plt.show()"
      ],
      "execution_count": null,
      "outputs": [
        {
          "output_type": "display_data",
          "data": {
            "image/png": "[encoded data removed]",
            "text/plain": [
              "<Figure size 432x288 with 1 Axes>"
            ]
          },
          "metadata": {
            "tags": [],
            "needs_background": "light"
          }
        }
      ]
    },
    {
      "cell_type": "code",
      "metadata": {
        "colab": {
          "base_uri": "https://localhost:8080/",
          "height": 295
        },
        "id": "773qTh8vkgU9",
        "outputId": "f0ba4f3c-c117-4908-dc1b-5b1cf851f5fb"
      },
      "source": [
        "# summarize history for accuracy\n",
        "plt.plot(history.history['accuracy'])\n",
        "plt.plot(history.history['val_accuracy'])\n",
        "plt.title('model accuracy')\n",
        "plt.ylabel('accuracy')\n",
        "plt.xlabel('epoch')\n",
        "plt.legend(['train', 'validation'], loc='upper left')\n",
        "plt.show()\n"
      ],
      "execution_count": null,
      "outputs": [
        {
          "output_type": "display_data",
          "data": {
            "image/png": "[encoded data removed]",
            "text/plain": [
              "<Figure size 432x288 with 1 Axes>"
            ]
          },
          "metadata": {
            "tags": [],
            "needs_background": "light"
          }
        }
      ]
    },
    {
      "cell_type": "markdown",
      "metadata": {
        "id": "8lPTHSta7jgJ"
      },
      "source": [
        "**DenseNet**"
      ]
    },
    {
      "cell_type": "code",
      "metadata": {
        "id": "OTW6Rbn2Q0-v",
        "colab": {
          "base_uri": "https://localhost:8080/"
        },
        "outputId": "37ef85f3-e458-4917-f383-9aec72c92b59"
      },
      "source": [
        "from keras.applications import DenseNet121\n",
        "densenet_v2 = DenseNet121(\n",
        "    include_top=False,\n",
        "    input_shape=(254,254,3))\n",
        "model = Sequential()\n",
        "model.add(densenet_v2)\n",
        "model.add(GlobalAveragePooling2D())\n",
        "model.add(Dropout(0.6))\n",
        "model.add(Dense(512, activation='relu'))\n",
        "model.add(Dropout(0.6))\n",
        "model.add(Dense(1, activation='sigmoid'))\n",
        "\n",
        "model.compile(loss='binary_crossentropy',\n",
        "              optimizer=RMSprop(lr=0.000075),\n",
        "              metrics=['accuracy'])"
      ],
      "execution_count": null,
      "outputs": [
        {
          "output_type": "stream",
          "text": [
            "Downloading data from https://storage.googleapis.com/tensorflow/keras-applications/densenet/densenet121_weights_tf_dim_ordering_tf_kernels_notop.h5\n",
            "29089792/29084464 [==============================] - 0s 0us/step\n"
          ],
          "name": "stdout"
        }
      ]
    },
    {
      "cell_type": "code",
      "metadata": {
        "colab": {
          "base_uri": "https://localhost:8080/"
        },
        "id": "gOgOBkpRYR9j",
        "outputId": "eaf0cdad-03e9-4160-fd5f-aaa0e58ba095"
      },
      "source": [
        "history = model.fit(\n",
        "          train_generator,\n",
        "          steps_per_epoch = train_generator.samples // 64,\n",
        "          validation_data = validation_generator, \n",
        "          validation_steps = validation_generator.samples // 64,\n",
        "          epochs = 5)"
      ],
      "execution_count": null,
      "outputs": [
        {
          "output_type": "stream",
          "text": [
            "Epoch 1/5\n",
            "512/512 [==============================] - 464s 868ms/step - loss: 0.1175 - accuracy: 0.9503 - val_loss: 0.0123 - val_accuracy: 0.9959\n",
            "Epoch 2/5\n",
            "512/512 [==============================] - 438s 854ms/step - loss: 0.0151 - accuracy: 0.9960 - val_loss: 0.0189 - val_accuracy: 0.9974\n",
            "Epoch 3/5\n",
            "512/512 [==============================] - 441s 860ms/step - loss: 0.0164 - accuracy: 0.9963 - val_loss: 0.0043 - val_accuracy: 0.9988\n",
            "Epoch 4/5\n",
            "512/512 [==============================] - 441s 860ms/step - loss: 0.0123 - accuracy: 0.9970 - val_loss: 0.0062 - val_accuracy: 0.9974\n",
            "Epoch 5/5\n",
            "512/512 [==============================] - 440s 859ms/step - loss: 0.0101 - accuracy: 0.9968 - val_loss: 0.0106 - val_accuracy: 0.9979\n"
          ],
          "name": "stdout"
        }
      ]
    },
    {
      "cell_type": "code",
      "metadata": {
        "id": "SvVAl845YUAd"
      },
      "source": [
        "predictions = model.predict(test_generator)"
      ],
      "execution_count": null,
      "outputs": []
    },
    {
      "cell_type": "code",
      "metadata": {
        "colab": {
          "base_uri": "https://localhost:8080/"
        },
        "id": "HduCe0x2Yf8G",
        "outputId": "2cc2edc8-6e21-44f7-ca42-d3596cb7e82f"
      },
      "source": [
        "test_labels=test_generator.classes \n",
        "\n",
        "y_pred = [1 * (x[0]>=0.5) for x in predictions]\n",
        "\n",
        "print(classification_report(test_labels, y_pred))"
      ],
      "execution_count": null,
      "outputs": [
        {
          "output_type": "stream",
          "text": [
            "              precision    recall  f1-score   support\n",
            "\n",
            "           0       1.00      0.54      0.70      5137\n",
            "           1       0.60      1.00      0.75      3480\n",
            "\n",
            "    accuracy                           0.73      8617\n",
            "   macro avg       0.80      0.77      0.73      8617\n",
            "weighted avg       0.84      0.73      0.72      8617\n",
            "\n"
          ],
          "name": "stdout"
        }
      ]
    },
    {
      "cell_type": "code",
      "metadata": {
        "id": "0wvpqTwwItUp",
        "colab": {
          "base_uri": "https://localhost:8080/"
        },
        "outputId": "6607dcb5-c7cd-4e79-cc12-2ccf3248bc7f"
      },
      "source": [
        "model.summary()"
      ],
      "execution_count": null,
      "outputs": [
        {
          "output_type": "stream",
          "text": [
            "Model: \"sequential_1\"\n",
            "_________________________________________________________________\n",
            "Layer (type)                 Output Shape              Param #   \n",
            "=================================================================\n",
            "densenet121 (Functional)     (None, 8, 8, 1024)        7037504   \n",
            "_________________________________________________________________\n",
            "global_average_pooling2d_1 ( (None, 1024)              0         \n",
            "_________________________________________________________________\n",
            "dropout_2 (Dropout)          (None, 1024)              0         \n",
            "_________________________________________________________________\n",
            "dense_2 (Dense)              (None, 512)               524800    \n",
            "_________________________________________________________________\n",
            "dropout_3 (Dropout)          (None, 512)               0         \n",
            "_________________________________________________________________\n",
            "dense_3 (Dense)              (None, 1)                 513       \n",
            "=================================================================\n",
            "Total params: 7,562,817\n",
            "Trainable params: 7,479,169\n",
            "Non-trainable params: 83,648\n",
            "_________________________________________________________________\n"
          ],
          "name": "stdout"
        }
      ]
    },
    {
      "cell_type": "code",
      "metadata": {
        "colab": {
          "base_uri": "https://localhost:8080/",
          "height": 295
        },
        "id": "FiI8Gva4YiL-",
        "outputId": "ac767357-7553-46d6-a203-d84f2bddd7ab"
      },
      "source": [
        "# summarize history for loss\n",
        "plt.plot(history.history['loss'])\n",
        "plt.plot(history.history['val_loss'])\n",
        "plt.title('model loss')\n",
        "plt.ylabel('loss')\n",
        "plt.xlabel('epoch')\n",
        "plt.legend(['train', 'validation'], loc='upper left')\n",
        "plt.show()"
      ],
      "execution_count": null,
      "outputs": [
        {
          "output_type": "display_data",
          "data": {
            "image/png": "[encoded data removed]",
            "text/plain": [
              "<Figure size 432x288 with 1 Axes>"
            ]
          },
          "metadata": {
            "tags": [],
            "needs_background": "light"
          }
        }
      ]
    },
    {
      "cell_type": "code",
      "metadata": {
        "colab": {
          "base_uri": "https://localhost:8080/",
          "height": 295
        },
        "id": "tE8vHxqcYj2Q",
        "outputId": "30793d13-d933-43b0-80c9-cf4e87a0ba5a"
      },
      "source": [
        "# summarize history for accuracy\n",
        "plt.plot(history.history['accuracy'])\n",
        "plt.plot(history.history['val_accuracy'])\n",
        "plt.title('model accuracy')\n",
        "plt.ylabel('accuracy')\n",
        "plt.xlabel('epoch')\n",
        "plt.legend(['train', 'validation'], loc='upper left')\n",
        "plt.show()\n"
      ],
      "execution_count": null,
      "outputs": [
        {
          "output_type": "display_data",
          "data": {
            "image/png": "[encoded data removed]",
            "text/plain": [
              "<Figure size 432x288 with 1 Axes>"
            ]
          },
          "metadata": {
            "tags": [],
            "needs_background": "light"
          }
        }
      ]
    },
    {
      "cell_type": "markdown",
      "metadata": {
        "id": "Ur6ZfHCd74dJ"
      },
      "source": [
        "**VGG16**"
      ]
    },
    {
      "cell_type": "code",
      "metadata": {
        "colab": {
          "base_uri": "https://localhost:8080/"
        },
        "id": "VJzu_InPYlt_",
        "outputId": "c14a9863-754d-49b8-f390-d2de2cab8607"
      },
      "source": [
        "from keras.applications import VGG16\n",
        "vgg16 = VGG16(\n",
        "    include_top=False,\n",
        "    input_shape=(254,254,3),\n",
        "    classifier_activation=\"sigmoid\")\n",
        "model = Sequential()\n",
        "model.add(vgg16)\n",
        "model.add(GlobalAveragePooling2D())\n",
        "model.add(Dropout(0.6))\n",
        "model.add(Dense(512, activation='relu'))\n",
        "model.add(Dropout(0.6))\n",
        "model.add(Dense(1, activation='sigmoid'))\n",
        "\n",
        "model.compile(loss='binary_crossentropy',\n",
        "              optimizer=RMSprop(lr=0.000075),\n",
        "              metrics=['accuracy'])"
      ],
      "execution_count": null,
      "outputs": [
        {
          "output_type": "stream",
          "text": [
            "Downloading data from https://storage.googleapis.com/tensorflow/keras-applications/vgg16/vgg16_weights_tf_dim_ordering_tf_kernels_notop.h5\n",
            "58892288/58889256 [==============================] - 0s 0us/step\n"
          ],
          "name": "stdout"
        }
      ]
    },
    {
      "cell_type": "code",
      "metadata": {
        "colab": {
          "base_uri": "https://localhost:8080/"
        },
        "id": "WAO2RoDLbXdq",
        "outputId": "af1d629c-fbdd-4a56-bdae-dee75015cee5"
      },
      "source": [
        "history = model.fit(\n",
        "          train_generator,\n",
        "          steps_per_epoch = train_generator.samples // 64,\n",
        "          validation_data = validation_generator, \n",
        "          validation_steps = validation_generator.samples // 64,\n",
        "          epochs = 5)"
      ],
      "execution_count": null,
      "outputs": [
        {
          "output_type": "stream",
          "text": [
            "Epoch 1/5\n",
            "512/512 [==============================] - 456s 873ms/step - loss: 0.2410 - accuracy: 0.9051 - val_loss: 0.0285 - val_accuracy: 0.9850\n",
            "Epoch 2/5\n",
            "512/512 [==============================] - 440s 859ms/step - loss: 0.0611 - accuracy: 0.9762 - val_loss: 0.0260 - val_accuracy: 0.9953\n",
            "Epoch 3/5\n",
            "512/512 [==============================] - 442s 862ms/step - loss: 0.0871 - accuracy: 0.9812 - val_loss: 0.0179 - val_accuracy: 0.9966\n",
            "Epoch 4/5\n",
            "512/512 [==============================] - 443s 864ms/step - loss: 0.0676 - accuracy: 0.9816 - val_loss: 0.0676 - val_accuracy: 0.9665\n",
            "Epoch 5/5\n",
            "512/512 [==============================] - 439s 857ms/step - loss: 0.0843 - accuracy: 0.9863 - val_loss: 0.0180 - val_accuracy: 0.9957\n"
          ],
          "name": "stdout"
        }
      ]
    },
    {
      "cell_type": "code",
      "metadata": {
        "id": "p2vaTvCmbZp3"
      },
      "source": [
        "predictions = model.predict(test_generator)\n"
      ],
      "execution_count": null,
      "outputs": []
    },
    {
      "cell_type": "code",
      "metadata": {
        "colab": {
          "base_uri": "https://localhost:8080/"
        },
        "id": "UmHNo3B8bber",
        "outputId": "f16ab452-c791-494f-8a98-5ca709c05a9b"
      },
      "source": [
        "test_labels=test_generator.classes \n",
        "\n",
        "y_pred = [1 * (x[0]>=0.5) for x in predictions]\n",
        "\n",
        "print(classification_report(test_labels, y_pred))"
      ],
      "execution_count": null,
      "outputs": [
        {
          "output_type": "stream",
          "text": [
            "              precision    recall  f1-score   support\n",
            "\n",
            "           0       0.79      0.86      0.82      5137\n",
            "           1       0.76      0.66      0.71      3480\n",
            "\n",
            "    accuracy                           0.78      8617\n",
            "   macro avg       0.78      0.76      0.77      8617\n",
            "weighted avg       0.78      0.78      0.78      8617\n",
            "\n"
          ],
          "name": "stdout"
        }
      ]
    },
    {
      "cell_type": "code",
      "metadata": {
        "colab": {
          "base_uri": "https://localhost:8080/",
          "height": 295
        },
        "id": "2Zt0N128bdBA",
        "outputId": "ddeb85b7-7dbb-4172-9a2c-09b640499fb6"
      },
      "source": [
        "# summarize history for loss\n",
        "plt.plot(history.history['loss'])\n",
        "plt.plot(history.history['val_loss'])\n",
        "plt.title('model loss')\n",
        "plt.ylabel('loss')\n",
        "plt.xlabel('epoch')\n",
        "plt.legend(['train', 'validation'], loc='upper left')\n",
        "plt.show()"
      ],
      "execution_count": null,
      "outputs": [
        {
          "output_type": "display_data",
          "data": {
            "image/png": "[encoded data removed]",
            "text/plain": [
              "<Figure size 432x288 with 1 Axes>"
            ]
          },
          "metadata": {
            "tags": [],
            "needs_background": "light"
          }
        }
      ]
    },
    {
      "cell_type": "code",
      "metadata": {
        "colab": {
          "base_uri": "https://localhost:8080/",
          "height": 295
        },
        "id": "fT_rvnpUbfE0",
        "outputId": "5e3cf44e-777e-4acc-8361-d70952828d64"
      },
      "source": [
        "# summarize history for accuracy\n",
        "plt.plot(history.history['accuracy'])\n",
        "plt.plot(history.history['val_accuracy'])\n",
        "plt.title('model accuracy')\n",
        "plt.ylabel('accuracy')\n",
        "plt.xlabel('epoch')\n",
        "plt.legend(['train', 'validation'], loc='upper left')\n",
        "plt.show()\n"
      ],
      "execution_count": null,
      "outputs": [
        {
          "output_type": "display_data",
          "data": {
            "image/png": "[encoded data removed]",
            "text/plain": [
              "<Figure size 432x288 with 1 Axes>"
            ]
          },
          "metadata": {
            "tags": [],
            "needs_background": "light"
          }
        }
      ]
    },
    {
      "cell_type": "markdown",
      "metadata": {
        "id": "JiLtJbYU7_uH"
      },
      "source": [
        "**ResNet**"
      ]
    },
    {
      "cell_type": "code",
      "metadata": {
        "id": "-7a9N64zbgmi",
        "colab": {
          "base_uri": "https://localhost:8080/"
        },
        "outputId": "7d1c96f6-b0bc-4253-c7cc-1faa34e7b0d0"
      },
      "source": [
        "from keras.applications import ResNet101\n",
        "\n",
        "resnet = ResNet101(\n",
        "    include_top=False,\n",
        "    input_shape=(254,254,3))\n",
        "model = Sequential()\n",
        "model.add(resnet)\n",
        "model.add(GlobalAveragePooling2D())\n",
        "model.add(Dropout(0.6))\n",
        "model.add(Dense(512, activation='relu'))\n",
        "model.add(Dropout(0.6))\n",
        "model.add(Dense(1, activation='sigmoid'))\n",
        "\n",
        "model.compile(loss='binary_crossentropy',\n",
        "              optimizer=RMSprop(lr=0.000075),\n",
        "              metrics=['accuracy'])"
      ],
      "execution_count": null,
      "outputs": [
        {
          "output_type": "stream",
          "text": [
            "Downloading data from https://storage.googleapis.com/tensorflow/keras-applications/resnet/resnet101_weights_tf_dim_ordering_tf_kernels_notop.h5\n",
            "171450368/171446536 [==============================] - 3s 0us/step\n"
          ],
          "name": "stdout"
        }
      ]
    },
    {
      "cell_type": "code",
      "metadata": {
        "colab": {
          "base_uri": "https://localhost:8080/"
        },
        "id": "6Abt5D1db4Ub",
        "outputId": "7e060254-3b9e-43ef-fc73-730f3bea6c43"
      },
      "source": [
        "history = model.fit(\n",
        "          train_generator,\n",
        "          steps_per_epoch = train_generator.samples // 64,\n",
        "          validation_data = validation_generator, \n",
        "          validation_steps = validation_generator.samples // 64,\n",
        "          epochs = 5)"
      ],
      "execution_count": null,
      "outputs": [
        {
          "output_type": "stream",
          "text": [
            "Epoch 1/5\n",
            "512/512 [==============================] - 480s 895ms/step - loss: 0.0845 - accuracy: 0.9677 - val_loss: 11.3685 - val_accuracy: 0.3614\n",
            "Epoch 2/5\n",
            "512/512 [==============================] - 458s 893ms/step - loss: 0.0200 - accuracy: 0.9949 - val_loss: 5.0322 - val_accuracy: 0.3897\n",
            "Epoch 3/5\n",
            "512/512 [==============================] - 457s 892ms/step - loss: 0.0191 - accuracy: 0.9956 - val_loss: 0.1604 - val_accuracy: 0.9801\n",
            "Epoch 4/5\n",
            "512/512 [==============================] - 457s 892ms/step - loss: 0.0168 - accuracy: 0.9963 - val_loss: 0.9233 - val_accuracy: 0.9076\n",
            "Epoch 5/5\n",
            "512/512 [==============================] - 456s 890ms/step - loss: 0.0189 - accuracy: 0.9963 - val_loss: 0.0285 - val_accuracy: 0.9934\n"
          ],
          "name": "stdout"
        }
      ]
    },
    {
      "cell_type": "code",
      "metadata": {
        "id": "-Cn_jOC_b6d1"
      },
      "source": [
        "predictions = model.predict(test_generator)\n"
      ],
      "execution_count": null,
      "outputs": []
    },
    {
      "cell_type": "code",
      "metadata": {
        "colab": {
          "base_uri": "https://localhost:8080/"
        },
        "id": "TkaapofSb714",
        "outputId": "568bed1c-2ae2-4347-8fd2-39eeeeff7668"
      },
      "source": [
        "# import classification_report\n",
        "from sklearn.metrics import classification_report\n",
        "\n",
        "# get the ground truth of your data. \n",
        "test_labels=test_generator.classes \n",
        "\n",
        "y_pred = [1 * (x[0]>=0.5) for x in predictions]\n",
        "\n",
        "# get the classification report\n",
        "print(classification_report(test_labels, y_pred))"
      ],
      "execution_count": null,
      "outputs": [
        {
          "output_type": "stream",
          "text": [
            "              precision    recall  f1-score   support\n",
            "\n",
            "           0       0.90      0.65      0.75      5137\n",
            "           1       0.63      0.89      0.74      3480\n",
            "\n",
            "    accuracy                           0.75      8617\n",
            "   macro avg       0.77      0.77      0.75      8617\n",
            "weighted avg       0.79      0.75      0.75      8617\n",
            "\n"
          ],
          "name": "stdout"
        }
      ]
    },
    {
      "cell_type": "code",
      "metadata": {
        "colab": {
          "base_uri": "https://localhost:8080/",
          "height": 54
        },
        "id": "SkoKsWD3b9xh",
        "outputId": "21a692b1-5188-47d4-ca61-922397ac5c0e"
      },
      "source": [
        "# summarize history for loss\n",
        "plt.plot(history.history['loss'])\n",
        "plt.plot(history.history['val_loss'])\n",
        "plt.title('model loss')\n",
        "plt.ylabel('loss')\n",
        "plt.xlabel('epoch')\n",
        "plt.legend(['train', 'validation'], loc='upper left')\n",
        "plt.show()"
      ],
      "execution_count": null,
      "outputs": [
        {
          "output_type": "display_data",
          "data": {
            "image/png": "[encoded data removed]",
            "text/plain": [
              "<Figure size 432x288 with 1 Axes>"
            ]
          },
          "metadata": {
            "tags": [],
            "needs_background": "light"
          }
        }
      ]
    },
    {
      "cell_type": "code",
      "metadata": {
        "colab": {
          "base_uri": "https://localhost:8080/",
          "height": 54
        },
        "id": "nrp7NtsUb_Cz",
        "outputId": "c06f72c7-4d8a-487c-9fec-cd7873a464e8"
      },
      "source": [
        "# summarize history for accuracy\n",
        "plt.plot(history.history['accuracy'])\n",
        "plt.plot(history.history['val_accuracy'])\n",
        "plt.title('model accuracy')\n",
        "plt.ylabel('accuracy')\n",
        "plt.xlabel('epoch')\n",
        "plt.legend(['train', 'validation'], loc='upper left')\n",
        "plt.show()\n"
      ],
      "execution_count": null,
      "outputs": [
        {
          "output_type": "display_data",
          "data": {
            "image/png": "[encoded data removed]",
            "text/plain": [
              "<Figure size 432x288 with 1 Axes>"
            ]
          },
          "metadata": {
            "tags": [],
            "needs_background": "light"
          }
        }
      ]
    },
    {
      "cell_type": "code",
      "metadata": {
        "id": "y1d1snCda6Nl"
      },
      "source": [
        ""
      ],
      "execution_count": null,
      "outputs": []
    },
    {
      "cell_type": "code",
      "metadata": {
        "id": "kwSFXwZ4oF42"
      },
      "source": [
        ""
      ],
      "execution_count": null,
      "outputs": []
    }
  ]
}