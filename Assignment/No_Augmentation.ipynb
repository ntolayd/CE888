{
  "nbformat": 4,
  "nbformat_minor": 0,
  "metadata": {
    "accelerator": "GPU",
    "colab": {
      "name": "fire_classification_no_aug",
      "provenance": [],
      "collapsed_sections": [],
      "machine_shape": "hm",
      "authorship_tag": "ABX9TyP3ue3exAvK2o1UJ3+6XOoS",
      "include_colab_link": true
    },
    "kernelspec": {
      "display_name": "Python 3",
      "name": "python3"
    }
  },
  "cells": [
    {
      "cell_type": "markdown",
      "metadata": {
        "id": "view-in-github",
        "colab_type": "text"
      },
      "source": [
        "<a href=\"https://colab.research.google.com/github/ntolayd/CE888/blob/main/Assignment/No_Augmentation.ipynb\" target=\"_parent\"><img src=\"https://colab.research.google.com/assets/colab-badge.svg\" alt=\"Open In Colab\"/></a>"
      ]
    },
    {
      "cell_type": "code",
      "metadata": {
        "colab": {
          "base_uri": "https://localhost:8080/"
        },
        "id": "9EhLGDVxvawB",
        "outputId": "faa5be66-df8a-467a-d93e-f5635b31aa1b"
      },
      "source": [
        "from google.colab import drive,\n",
        "drive.mount('/content/gdrive')"
      ],
      "execution_count": null,
      "outputs": [
        {
          "output_type": "stream",
          "text": [
            "Mounted at /content/gdrive\n"
          ],
          "name": "stdout"
        }
      ]
    },
    {
      "cell_type": "code",
      "metadata": {
        "id": "YDHeK9qnvdD8"
      },
      "source": [
        "!unzip \"/content/gdrive/My Drive/Test.zip\"\n",
        "!unzip \"/content/gdrive/My Drive/Training.zip\""
      ],
      "execution_count": null,
      "outputs": []
    },
    {
      "cell_type": "code",
      "metadata": {
        "id": "iLVyF4nXSvoW"
      },
      "source": [
        "import os \n",
        "import random\n",
        "import shutil"
      ],
      "execution_count": null,
      "outputs": []
    },
    {
      "cell_type": "code",
      "metadata": {
        "id": "MK29LTT7t91W"
      },
      "source": [
        "os.mkdir('Validation')\n",
        "os.mkdir('Validation/Fire')\n",
        "os.mkdir('Validation/No_Fire')"
      ],
      "execution_count": null,
      "outputs": []
    },
    {
      "cell_type": "code",
      "metadata": {
        "id": "R5UWXTtIRrKI"
      },
      "source": [
        "#Creating validation folder and moving randomly selected images from traning folder to validation folder\n",
        "random.seed(126)\n",
        "source = 'Training/Fire'\n",
        "dest = 'Validation/Fire'\n",
        "files = os.listdir(source)\n",
        "no_of_files = len(files) // 6\n",
        "\n",
        "for file_name in random.sample(files, no_of_files):\n",
        "    shutil.move(os.path.join(source, file_name), dest)\n"
      ],
      "execution_count": null,
      "outputs": []
    },
    {
      "cell_type": "code",
      "metadata": {
        "id": "v3huqs0vR-LV"
      },
      "source": [
        "#Creating validation folder and moving randomly selected images from traning folder to validation folder\n",
        "random.seed(19)\n",
        "source = 'Training/No_Fire'\n",
        "dest = 'Validation/No_Fire'\n",
        "files = os.listdir(source)\n",
        "no_of_files = len(files) // 6\n",
        "\n",
        "for file_name in random.sample(files, no_of_files):\n",
        "    shutil.move(os.path.join(source, file_name), dest)\n"
      ],
      "execution_count": null,
      "outputs": []
    },
    {
      "cell_type": "code",
      "metadata": {
        "id": "ZH4UIILyy1D9"
      },
      "source": [
        "import numpy as np\n",
        "from tqdm import tqdm\n",
        "from random import shuffle\n",
        "import cv2\n",
        "import os \n",
        "from tensorflow.keras.preprocessing.image import ImageDataGenerator\n",
        "import tensorflow as tf\n",
        "import matplotlib.pyplot as plt\n",
        "import pandas as pd\n",
        "from keras.models import Sequential\n",
        "from keras.layers import GlobalAveragePooling2D, Flatten, Conv2D, MaxPooling2D\n",
        "from keras.layers import Dropout\n",
        "from keras.layers import Dense\n",
        "from keras.optimizers import Adam, RMSprop\n",
        "from sklearn.metrics import classification_report\n",
        "from skimage.color import rgb2hsv\n",
        "import skimage"
      ],
      "execution_count": null,
      "outputs": []
    },
    {
      "cell_type": "code",
      "metadata": {
        "id": "IivF0Q3hxFQl"
      },
      "source": [
        "Train_path = 'Training'\n",
        "Test_path = 'Test'\n",
        "Validation_path ='Validation'"
      ],
      "execution_count": null,
      "outputs": []
    },
    {
      "cell_type": "code",
      "metadata": {
        "id": "5mNfR3nHHuz6"
      },
      "source": [
        "from skimage.color import rgb2hsv\n",
        "def color_aug(img):\n",
        "  img = img / 255\n",
        "  new_img = rgb2hsv(img) * 255\n",
        "  return new_img"
      ],
      "execution_count": null,
      "outputs": []
    },
    {
      "cell_type": "code",
      "metadata": {
        "id": "fDlqfGF-H4ks"
      },
      "source": [
        "def noise(img):\n",
        "    img = img / 255\n",
        "    gimg = skimage.util.random_noise(img, mode='poisson') * 255\n",
        "    return gimg "
      ],
      "execution_count": null,
      "outputs": []
    },
    {
      "cell_type": "code",
      "metadata": {
        "colab": {
          "base_uri": "https://localhost:8080/"
        },
        "id": "cUNZMATZRfxu",
        "outputId": "bcc2dbc0-7924-403f-c2b7-a8ef2ed5e67b"
      },
      "source": [
        "train_datagen = ImageDataGenerator(rescale=1./255\n",
        "                                   )\n",
        "\n",
        "validation_datagen = ImageDataGenerator(rescale=1./255)\n",
        "\n",
        "test_datagen = ImageDataGenerator(rescale=1./255)\n",
        "\n",
        "train_generator = train_datagen.flow_from_directory(\n",
        "    Train_path,\n",
        "    target_size=(254, 254),\n",
        "    batch_size=64,\n",
        "    color_mode='rgb',\n",
        "    class_mode='binary',\n",
        "    shuffle=True) # set as training data\n",
        "\n",
        "validation_generator = validation_datagen.flow_from_directory(\n",
        "    Validation_path, \n",
        "    target_size=(254, 254),\n",
        "    color_mode='rgb',\n",
        "    batch_size=64,\n",
        "    class_mode='binary', shuffle=False) # set as validation data\n",
        "\n",
        "test_generator = test_datagen.flow_from_directory(\n",
        "        Test_path,\n",
        "        target_size=(254, 254),\n",
        "        color_mode='rgb',\n",
        "        batch_size=1,\n",
        "        class_mode='binary', shuffle=False)"
      ],
      "execution_count": null,
      "outputs": [
        {
          "output_type": "stream",
          "text": [
            "Found 32814 images belonging to 2 classes.\n",
            "Found 6561 images belonging to 2 classes.\n",
            "Found 8617 images belonging to 2 classes.\n"
          ],
          "name": "stdout"
        }
      ]
    },
    {
      "cell_type": "code",
      "metadata": {
        "colab": {
          "base_uri": "https://localhost:8080/"
        },
        "id": "mVluLnzGC2vK",
        "outputId": "cb186073-f707-4baa-a9a0-ed4637efc002"
      },
      "source": [
        "train_generator.class_indices"
      ],
      "execution_count": null,
      "outputs": [
        {
          "output_type": "execute_result",
          "data": {
            "text/plain": [
              "{'Fire': 0, 'No_Fire': 1}"
            ]
          },
          "metadata": {
            "tags": []
          },
          "execution_count": 13
        }
      ]
    },
    {
      "cell_type": "markdown",
      "metadata": {
        "id": "9KzWaInh7XbN"
      },
      "source": [
        "**Xception**"
      ]
    },
    {
      "cell_type": "code",
      "metadata": {
        "colab": {
          "base_uri": "https://localhost:8080/"
        },
        "id": "95eWg9i1kRFe",
        "outputId": "22177b6e-9879-4334-b8f1-c784cc8fafe0"
      },
      "source": [
        "from keras.applications import Xception\n",
        "\n",
        "\n",
        "xcep = Xception(\n",
        "    include_top=False,\n",
        "    input_shape=(254,254,3))\n",
        "model = Sequential()\n",
        "model.add(xcep)\n",
        "model.add(GlobalAveragePooling2D())\n",
        "model.add(Dropout(0.6))\n",
        "model.add(Dense(512, activation='relu'))\n",
        "model.add(Dropout(0.6))\n",
        "model.add(Dense(1, activation='sigmoid'))\n",
        "\n",
        "model.compile(loss='binary_crossentropy',\n",
        "              optimizer=RMSprop(lr=0.000075),\n",
        "              metrics=['accuracy'])"
      ],
      "execution_count": null,
      "outputs": [
        {
          "output_type": "stream",
          "text": [
            "Downloading data from https://storage.googleapis.com/tensorflow/keras-applications/xception/xception_weights_tf_dim_ordering_tf_kernels_notop.h5\n",
            "83689472/83683744 [==============================] - 1s 0us/step\n"
          ],
          "name": "stdout"
        }
      ]
    },
    {
      "cell_type": "code",
      "metadata": {
        "colab": {
          "base_uri": "https://localhost:8080/"
        },
        "id": "JSbNCvvHkQ26",
        "outputId": "883e2372-1905-4c36-d3dc-b1195065c3eb"
      },
      "source": [
        "history = model.fit(\n",
        "          train_generator,\n",
        "          steps_per_epoch = train_generator.samples // 64,\n",
        "          validation_data = validation_generator, \n",
        "          validation_steps = validation_generator.samples // 64,\n",
        "          epochs = 5)"
      ],
      "execution_count": null,
      "outputs": [
        {
          "output_type": "stream",
          "text": [
            "Epoch 1/5\n",
            "512/512 [==============================] - 353s 639ms/step - loss: 0.0662 - accuracy: 0.9788 - val_loss: 0.0107 - val_accuracy: 0.9985\n",
            "Epoch 2/5\n",
            "512/512 [==============================] - 324s 633ms/step - loss: 0.0024 - accuracy: 0.9994 - val_loss: 0.0072 - val_accuracy: 0.9985\n",
            "Epoch 3/5\n",
            "512/512 [==============================] - 325s 634ms/step - loss: 0.0024 - accuracy: 0.9995 - val_loss: 0.0095 - val_accuracy: 0.9988\n",
            "Epoch 4/5\n",
            "512/512 [==============================] - 324s 633ms/step - loss: 0.0021 - accuracy: 0.9998 - val_loss: 0.0095 - val_accuracy: 0.9992\n",
            "Epoch 5/5\n",
            "512/512 [==============================] - 324s 633ms/step - loss: 4.0315e-05 - accuracy: 1.0000 - val_loss: 0.0101 - val_accuracy: 0.9994\n"
          ],
          "name": "stdout"
        }
      ]
    },
    {
      "cell_type": "code",
      "metadata": {
        "id": "yLHJfbkckQjq"
      },
      "source": [
        "predictions = model.predict(test_generator)\n"
      ],
      "execution_count": null,
      "outputs": []
    },
    {
      "cell_type": "code",
      "metadata": {
        "colab": {
          "base_uri": "https://localhost:8080/"
        },
        "id": "Tl9sfA5Fkdv6",
        "outputId": "34c7783f-0e60-46a4-c8fb-a027af1c136a"
      },
      "source": [
        "\n",
        "test_labels=test_generator.classes \n",
        "\n",
        "y_pred = [1 * (x[0]>=0.5) for x in predictions]\n",
        "\n",
        "print(classification_report(test_labels, y_pred))"
      ],
      "execution_count": null,
      "outputs": [
        {
          "output_type": "stream",
          "text": [
            "              precision    recall  f1-score   support\n",
            "\n",
            "           0       0.66      0.90      0.76      5137\n",
            "           1       0.69      0.32      0.44      3480\n",
            "\n",
            "    accuracy                           0.67      8617\n",
            "   macro avg       0.68      0.61      0.60      8617\n",
            "weighted avg       0.67      0.67      0.63      8617\n",
            "\n"
          ],
          "name": "stdout"
        }
      ]
    },
    {
      "cell_type": "code",
      "metadata": {
        "colab": {
          "base_uri": "https://localhost:8080/",
          "height": 295
        },
        "id": "vmEHAVTOkgYX",
        "outputId": "7cdc9879-4a88-4b3b-bf5f-653e82775fa9"
      },
      "source": [
        "# summarize history for loss\n",
        "plt.plot(history.history['loss'])\n",
        "plt.plot(history.history['val_loss'])\n",
        "plt.title('model loss')\n",
        "plt.ylabel('loss')\n",
        "plt.xlabel('epoch')\n",
        "plt.legend(['train', 'validation'], loc='upper left')\n",
        "plt.show()"
      ],
      "execution_count": null,
      "outputs": [
        {
          "output_type": "display_data",
          "data": {
            "image/png": "[encoded data removed]",
            "text/plain": [
              "<Figure size 432x288 with 1 Axes>"
            ]
          },
          "metadata": {
            "tags": [],
            "needs_background": "light"
          }
        }
      ]
    },
    {
      "cell_type": "code",
      "metadata": {
        "colab": {
          "base_uri": "https://localhost:8080/",
          "height": 295
        },
        "id": "773qTh8vkgU9",
        "outputId": "7f858526-ee22-421e-a090-65755f79f1b6"
      },
      "source": [
        "# summarize history for accuracy\n",
        "plt.plot(history.history['accuracy'])\n",
        "plt.plot(history.history['val_accuracy'])\n",
        "plt.title('model accuracy')\n",
        "plt.ylabel('accuracy')\n",
        "plt.xlabel('epoch')\n",
        "plt.legend(['train', 'validation'], loc='upper left')\n",
        "plt.show()\n"
      ],
      "execution_count": null,
      "outputs": [
        {
          "output_type": "display_data",
          "data": {
            "image/png": "[encoded data removed]",
            "text/plain": [
              "<Figure size 432x288 with 1 Axes>"
            ]
          },
          "metadata": {
            "tags": [],
            "needs_background": "light"
          }
        }
      ]
    },
    {
      "cell_type": "markdown",
      "metadata": {
        "id": "8lPTHSta7jgJ"
      },
      "source": [
        "**DenseNet**"
      ]
    },
    {
      "cell_type": "code",
      "metadata": {
        "id": "OTW6Rbn2Q0-v",
        "colab": {
          "base_uri": "https://localhost:8080/"
        },
        "outputId": "97de4ec2-2333-4e90-c972-7e111db120d8"
      },
      "source": [
        "from keras.applications import DenseNet121\n",
        "densenet_v2 = DenseNet121(\n",
        "    include_top=False,\n",
        "    input_shape=(254,254,3))\n",
        "model = Sequential()\n",
        "model.add(densenet_v2)\n",
        "model.add(GlobalAveragePooling2D())\n",
        "model.add(Dropout(0.6))\n",
        "model.add(Dense(512, activation='relu'))\n",
        "model.add(Dropout(0.6))\n",
        "model.add(Dense(1, activation='sigmoid'))\n",
        "\n",
        "model.compile(loss='binary_crossentropy',\n",
        "              optimizer=RMSprop(lr=0.000075),\n",
        "              metrics=['accuracy'])"
      ],
      "execution_count": null,
      "outputs": [
        {
          "output_type": "stream",
          "text": [
            "Downloading data from https://storage.googleapis.com/tensorflow/keras-applications/densenet/densenet121_weights_tf_dim_ordering_tf_kernels_notop.h5\n",
            "29089792/29084464 [==============================] - 0s 0us/step\n"
          ],
          "name": "stdout"
        }
      ]
    },
    {
      "cell_type": "code",
      "metadata": {
        "colab": {
          "base_uri": "https://localhost:8080/"
        },
        "id": "gOgOBkpRYR9j",
        "outputId": "beb0c943-1c2f-4be5-f917-fe572da5d34c"
      },
      "source": [
        "history = model.fit(\n",
        "          train_generator,\n",
        "          steps_per_epoch = train_generator.samples // 64,\n",
        "          validation_data = validation_generator, \n",
        "          validation_steps = validation_generator.samples // 64,\n",
        "          epochs = 5)"
      ],
      "execution_count": null,
      "outputs": [
        {
          "output_type": "stream",
          "text": [
            "Epoch 1/5\n",
            "512/512 [==============================] - 179s 308ms/step - loss: 0.0883 - accuracy: 0.9648 - val_loss: 0.0055 - val_accuracy: 0.9986\n",
            "Epoch 2/5\n",
            "512/512 [==============================] - 154s 301ms/step - loss: 0.0033 - accuracy: 0.9994 - val_loss: 0.0053 - val_accuracy: 0.9994\n",
            "Epoch 3/5\n",
            "512/512 [==============================] - 154s 300ms/step - loss: 5.7329e-04 - accuracy: 1.0000 - val_loss: 0.0157 - val_accuracy: 0.9995\n",
            "Epoch 4/5\n",
            "512/512 [==============================] - 154s 301ms/step - loss: 0.0011 - accuracy: 0.9999 - val_loss: 0.0069 - val_accuracy: 0.9997\n",
            "Epoch 5/5\n",
            "512/512 [==============================] - 154s 300ms/step - loss: 0.0029 - accuracy: 0.9998 - val_loss: 0.0060 - val_accuracy: 0.9995\n"
          ],
          "name": "stdout"
        }
      ]
    },
    {
      "cell_type": "code",
      "metadata": {
        "id": "SvVAl845YUAd"
      },
      "source": [
        "predictions = model.predict(test_generator)"
      ],
      "execution_count": null,
      "outputs": []
    },
    {
      "cell_type": "code",
      "metadata": {
        "colab": {
          "base_uri": "https://localhost:8080/"
        },
        "id": "HduCe0x2Yf8G",
        "outputId": "07d2bf1a-01bd-4e82-f5af-4c50d048b237"
      },
      "source": [
        "test_labels=test_generator.classes \n",
        "\n",
        "y_pred = [1 * (x[0]>=0.5) for x in predictions]\n",
        "\n",
        "print(classification_report(test_labels, y_pred))"
      ],
      "execution_count": null,
      "outputs": [
        {
          "output_type": "stream",
          "text": [
            "              precision    recall  f1-score   support\n",
            "\n",
            "           0       0.98      0.74      0.84      5137\n",
            "           1       0.72      0.97      0.83      3480\n",
            "\n",
            "    accuracy                           0.84      8617\n",
            "   macro avg       0.85      0.86      0.84      8617\n",
            "weighted avg       0.87      0.84      0.84      8617\n",
            "\n"
          ],
          "name": "stdout"
        }
      ]
    },
    {
      "cell_type": "code",
      "metadata": {
        "id": "0wvpqTwwItUp",
        "colab": {
          "base_uri": "https://localhost:8080/"
        },
        "outputId": "a5c14949-1b4a-4113-b3a9-60c9d7b968af"
      },
      "source": [
        "model.summary()"
      ],
      "execution_count": null,
      "outputs": [
        {
          "output_type": "stream",
          "text": [
            "Model: \"sequential_1\"\n",
            "_________________________________________________________________\n",
            "Layer (type)                 Output Shape              Param #   \n",
            "=================================================================\n",
            "densenet121 (Functional)     (None, 8, 8, 1024)        7037504   \n",
            "_________________________________________________________________\n",
            "global_average_pooling2d_1 ( (None, 1024)              0         \n",
            "_________________________________________________________________\n",
            "dropout_2 (Dropout)          (None, 1024)              0         \n",
            "_________________________________________________________________\n",
            "dense_2 (Dense)              (None, 512)               524800    \n",
            "_________________________________________________________________\n",
            "dropout_3 (Dropout)          (None, 512)               0         \n",
            "_________________________________________________________________\n",
            "dense_3 (Dense)              (None, 1)                 513       \n",
            "=================================================================\n",
            "Total params: 7,562,817\n",
            "Trainable params: 7,479,169\n",
            "Non-trainable params: 83,648\n",
            "_________________________________________________________________\n"
          ],
          "name": "stdout"
        }
      ]
    },
    {
      "cell_type": "code",
      "metadata": {
        "colab": {
          "base_uri": "https://localhost:8080/",
          "height": 295
        },
        "id": "FiI8Gva4YiL-",
        "outputId": "685b9eb3-d325-4c0a-e3a0-5f2a8d7d2542"
      },
      "source": [
        "# summarize history for loss\n",
        "plt.plot(history.history['loss'])\n",
        "plt.plot(history.history['val_loss'])\n",
        "plt.title('model loss')\n",
        "plt.ylabel('loss')\n",
        "plt.xlabel('epoch')\n",
        "plt.legend(['train', 'validation'], loc='upper left')\n",
        "plt.show()"
      ],
      "execution_count": null,
      "outputs": [
        {
          "output_type": "display_data",
          "data": {
            "image/png": "[encoded data removed]",
            "text/plain": [
              "<Figure size 432x288 with 1 Axes>"
            ]
          },
          "metadata": {
            "tags": [],
            "needs_background": "light"
          }
        }
      ]
    },
    {
      "cell_type": "code",
      "metadata": {
        "colab": {
          "base_uri": "https://localhost:8080/",
          "height": 295
        },
        "id": "tE8vHxqcYj2Q",
        "outputId": "88df45f1-da6c-44ea-8c77-a4ee6c7ace7d"
      },
      "source": [
        "# summarize history for accuracy\n",
        "plt.plot(history.history['accuracy'])\n",
        "plt.plot(history.history['val_accuracy'])\n",
        "plt.title('model accuracy')\n",
        "plt.ylabel('accuracy')\n",
        "plt.xlabel('epoch')\n",
        "plt.legend(['train', 'validation'], loc='upper left')\n",
        "plt.show()\n"
      ],
      "execution_count": null,
      "outputs": [
        {
          "output_type": "display_data",
          "data": {
            "image/png": "[encoded data removed]",
            "text/plain": [
              "<Figure size 432x288 with 1 Axes>"
            ]
          },
          "metadata": {
            "tags": [],
            "needs_background": "light"
          }
        }
      ]
    },
    {
      "cell_type": "markdown",
      "metadata": {
        "id": "Ur6ZfHCd74dJ"
      },
      "source": [
        "**VGG16**"
      ]
    },
    {
      "cell_type": "code",
      "metadata": {
        "colab": {
          "base_uri": "https://localhost:8080/"
        },
        "id": "VJzu_InPYlt_",
        "outputId": "e3d9f369-6e70-4de1-ea38-afc047537de9"
      },
      "source": [
        "from keras.applications import VGG16\n",
        "vgg16 = VGG16(\n",
        "    include_top=False,\n",
        "    input_shape=(254,254,3),\n",
        "    classifier_activation=\"sigmoid\")\n",
        "model = Sequential()\n",
        "model.add(vgg16)\n",
        "model.add(GlobalAveragePooling2D())\n",
        "model.add(Dropout(0.6))\n",
        "model.add(Dense(512, activation='relu'))\n",
        "model.add(Dropout(0.6))\n",
        "model.add(Dense(1, activation='sigmoid'))\n",
        "\n",
        "model.compile(loss='binary_crossentropy',\n",
        "              optimizer=RMSprop(lr=0.000075),\n",
        "              metrics=['accuracy'])"
      ],
      "execution_count": null,
      "outputs": [
        {
          "output_type": "stream",
          "text": [
            "Downloading data from https://storage.googleapis.com/tensorflow/keras-applications/vgg16/vgg16_weights_tf_dim_ordering_tf_kernels_notop.h5\n",
            "58892288/58889256 [==============================] - 1s 0us/step\n"
          ],
          "name": "stdout"
        }
      ]
    },
    {
      "cell_type": "code",
      "metadata": {
        "colab": {
          "base_uri": "https://localhost:8080/"
        },
        "id": "WAO2RoDLbXdq",
        "outputId": "d3b22217-159b-4687-ee64-060aea41d5f5"
      },
      "source": [
        "history = model.fit(\n",
        "          train_generator,\n",
        "          steps_per_epoch = train_generator.samples // 64,\n",
        "          validation_data = validation_generator, \n",
        "          validation_steps = validation_generator.samples // 64,\n",
        "          epochs = 5)"
      ],
      "execution_count": null,
      "outputs": [
        {
          "output_type": "stream",
          "text": [
            "Epoch 1/5\n",
            "512/512 [==============================] - 193s 363ms/step - loss: 0.2378 - accuracy: 0.9013 - val_loss: 0.0293 - val_accuracy: 0.9940\n",
            "Epoch 2/5\n",
            "512/512 [==============================] - 180s 352ms/step - loss: 0.0623 - accuracy: 0.9828 - val_loss: 0.0373 - val_accuracy: 0.9890\n",
            "Epoch 3/5\n",
            "512/512 [==============================] - 181s 353ms/step - loss: 0.0683 - accuracy: 0.9869 - val_loss: 0.0227 - val_accuracy: 0.9945\n",
            "Epoch 4/5\n",
            "512/512 [==============================] - 180s 352ms/step - loss: 0.3718 - accuracy: 0.9817 - val_loss: 0.0319 - val_accuracy: 0.9979\n",
            "Epoch 5/5\n",
            "512/512 [==============================] - 180s 352ms/step - loss: 0.2885 - accuracy: 0.9794 - val_loss: 0.0126 - val_accuracy: 0.9937\n"
          ],
          "name": "stdout"
        }
      ]
    },
    {
      "cell_type": "code",
      "metadata": {
        "id": "p2vaTvCmbZp3"
      },
      "source": [
        "predictions = model.predict(test_generator)\n"
      ],
      "execution_count": null,
      "outputs": []
    },
    {
      "cell_type": "code",
      "metadata": {
        "colab": {
          "base_uri": "https://localhost:8080/"
        },
        "id": "UmHNo3B8bber",
        "outputId": "360da6a5-f5cf-4ab7-f087-36d3b599c815"
      },
      "source": [
        "test_labels=test_generator.classes \n",
        "\n",
        "y_pred = [1 * (x[0]>=0.5) for x in predictions]\n",
        "\n",
        "print(classification_report(test_labels, y_pred))"
      ],
      "execution_count": null,
      "outputs": [
        {
          "output_type": "stream",
          "text": [
            "              precision    recall  f1-score   support\n",
            "\n",
            "           0       0.75      0.93      0.83      5137\n",
            "           1       0.84      0.54      0.65      3480\n",
            "\n",
            "    accuracy                           0.77      8617\n",
            "   macro avg       0.79      0.73      0.74      8617\n",
            "weighted avg       0.78      0.77      0.76      8617\n",
            "\n"
          ],
          "name": "stdout"
        }
      ]
    },
    {
      "cell_type": "code",
      "metadata": {
        "colab": {
          "base_uri": "https://localhost:8080/",
          "height": 295
        },
        "id": "2Zt0N128bdBA",
        "outputId": "a8282593-47fd-4495-8d8a-56eb0a2bc0e7"
      },
      "source": [
        "# summarize history for loss\n",
        "plt.plot(history.history['loss'])\n",
        "plt.plot(history.history['val_loss'])\n",
        "plt.title('model loss')\n",
        "plt.ylabel('loss')\n",
        "plt.xlabel('epoch')\n",
        "plt.legend(['train', 'validation'], loc='upper left')\n",
        "plt.show()"
      ],
      "execution_count": null,
      "outputs": [
        {
          "output_type": "display_data",
          "data": {
            "image/png": "[encoded data removed]",
            "text/plain": [
              "<Figure size 432x288 with 1 Axes>"
            ]
          },
          "metadata": {
            "tags": [],
            "needs_background": "light"
          }
        }
      ]
    },
    {
      "cell_type": "code",
      "metadata": {
        "colab": {
          "base_uri": "https://localhost:8080/",
          "height": 295
        },
        "id": "fT_rvnpUbfE0",
        "outputId": "01742e54-c7d7-48d2-ab1e-d83c145a454f"
      },
      "source": [
        "# summarize history for accuracy\n",
        "plt.plot(history.history['accuracy'])\n",
        "plt.plot(history.history['val_accuracy'])\n",
        "plt.title('model accuracy')\n",
        "plt.ylabel('accuracy')\n",
        "plt.xlabel('epoch')\n",
        "plt.legend(['train', 'validation'], loc='upper left')\n",
        "plt.show()\n"
      ],
      "execution_count": null,
      "outputs": [
        {
          "output_type": "display_data",
          "data": {
            "image/png": "[encoded data removed]",
            "text/plain": [
              "<Figure size 432x288 with 1 Axes>"
            ]
          },
          "metadata": {
            "tags": [],
            "needs_background": "light"
          }
        }
      ]
    },
    {
      "cell_type": "markdown",
      "metadata": {
        "id": "JiLtJbYU7_uH"
      },
      "source": [
        "**ResNet**"
      ]
    },
    {
      "cell_type": "code",
      "metadata": {
        "id": "-7a9N64zbgmi",
        "colab": {
          "base_uri": "https://localhost:8080/"
        },
        "outputId": "fc9ebedf-0d4f-4c6f-829c-ee3d9baef12f"
      },
      "source": [
        "from keras.applications import ResNet101\n",
        "\n",
        "resnet = ResNet101(\n",
        "    include_top=False,\n",
        "    input_shape=(254,254,3))\n",
        "model = Sequential()\n",
        "model.add(resnet)\n",
        "model.add(GlobalAveragePooling2D())\n",
        "model.add(Dropout(0.6))\n",
        "model.add(Dense(512, activation='relu'))\n",
        "model.add(Dropout(0.6))\n",
        "model.add(Dense(1, activation='sigmoid'))\n",
        "\n",
        "model.compile(loss='binary_crossentropy',\n",
        "              optimizer=RMSprop(lr=0.000075),\n",
        "              metrics=['accuracy'])"
      ],
      "execution_count": null,
      "outputs": [
        {
          "output_type": "stream",
          "text": [
            "Downloading data from https://storage.googleapis.com/tensorflow/keras-applications/resnet/resnet101_weights_tf_dim_ordering_tf_kernels_notop.h5\n",
            "171450368/171446536 [==============================] - 3s 0us/step\n"
          ],
          "name": "stdout"
        }
      ]
    },
    {
      "cell_type": "code",
      "metadata": {
        "colab": {
          "base_uri": "https://localhost:8080/"
        },
        "id": "6Abt5D1db4Ub",
        "outputId": "b4cdd362-2f32-466a-d7f0-2dff55625a04"
      },
      "source": [
        "history = model.fit(\n",
        "          train_generator,\n",
        "          steps_per_epoch = train_generator.samples // 64,\n",
        "          validation_data = validation_generator, \n",
        "          validation_steps = validation_generator.samples // 64,\n",
        "          epochs = 5)"
      ],
      "execution_count": null,
      "outputs": [
        {
          "output_type": "stream",
          "text": [
            "Epoch 1/5\n",
            "512/512 [==============================] - 267s 476ms/step - loss: 0.0578 - accuracy: 0.9798 - val_loss: 48.9059 - val_accuracy: 0.3614\n",
            "Epoch 2/5\n",
            "512/512 [==============================] - 241s 471ms/step - loss: 0.0032 - accuracy: 0.9995 - val_loss: 3.7633 - val_accuracy: 0.5968\n",
            "Epoch 3/5\n",
            "512/512 [==============================] - 241s 471ms/step - loss: 0.0048 - accuracy: 0.9993 - val_loss: 0.0024 - val_accuracy: 0.9995\n",
            "Epoch 4/5\n",
            "512/512 [==============================] - 241s 471ms/step - loss: 0.0017 - accuracy: 0.9996 - val_loss: 0.0258 - val_accuracy: 0.9986\n",
            "Epoch 5/5\n",
            "512/512 [==============================] - 241s 470ms/step - loss: 0.0039 - accuracy: 0.9996 - val_loss: 0.0034 - val_accuracy: 0.9992\n"
          ],
          "name": "stdout"
        }
      ]
    },
    {
      "cell_type": "code",
      "metadata": {
        "id": "-Cn_jOC_b6d1"
      },
      "source": [
        "predictions = model.predict(test_generator)\n"
      ],
      "execution_count": null,
      "outputs": []
    },
    {
      "cell_type": "code",
      "metadata": {
        "colab": {
          "base_uri": "https://localhost:8080/"
        },
        "id": "TkaapofSb714",
        "outputId": "bc5d21d1-1e41-4e66-991c-ce71bb37b724"
      },
      "source": [
        "# import classification_report\n",
        "from sklearn.metrics import classification_report\n",
        "\n",
        "# get the ground truth of your data. \n",
        "test_labels=test_generator.classes \n",
        "\n",
        "y_pred = [1 * (x[0]>=0.5) for x in predictions]\n",
        "\n",
        "# get the classification report\n",
        "print(classification_report(test_labels, y_pred))"
      ],
      "execution_count": null,
      "outputs": [
        {
          "output_type": "stream",
          "text": [
            "              precision    recall  f1-score   support\n",
            "\n",
            "           0       0.93      0.80      0.86      5137\n",
            "           1       0.76      0.91      0.83      3480\n",
            "\n",
            "    accuracy                           0.85      8617\n",
            "   macro avg       0.84      0.86      0.85      8617\n",
            "weighted avg       0.86      0.85      0.85      8617\n",
            "\n"
          ],
          "name": "stdout"
        }
      ]
    },
    {
      "cell_type": "code",
      "metadata": {
        "colab": {
          "base_uri": "https://localhost:8080/"
        },
        "id": "SkoKsWD3b9xh",
        "outputId": "86f686f8-be38-4e29-de4c-11841320463e"
      },
      "source": [
        "# summarize history for loss\n",
        "plt.plot(history.history['loss'])\n",
        "plt.plot(history.history['val_loss'])\n",
        "plt.title('model loss')\n",
        "plt.ylabel('loss')\n",
        "plt.xlabel('epoch')\n",
        "plt.legend(['train', 'validation'], loc='upper left')\n",
        "plt.show()"
      ],
      "execution_count": null,
      "outputs": [
        {
          "output_type": "display_data",
          "data": {
            "image/png": "[encoded data removed]",
            "text/plain": [
              "<Figure size 432x288 with 1 Axes>"
            ]
          },
          "metadata": {
            "tags": [],
            "needs_background": "light"
          }
        }
      ]
    },
    {
      "cell_type": "code",
      "metadata": {
        "colab": {
          "base_uri": "https://localhost:8080/"
        },
        "id": "nrp7NtsUb_Cz",
        "outputId": "7cbb7d2d-47c3-4248-dc49-336a3c1df8ab"
      },
      "source": [
        "# summarize history for accuracy\n",
        "plt.plot(history.history['accuracy'])\n",
        "plt.plot(history.history['val_accuracy'])\n",
        "plt.title('model accuracy')\n",
        "plt.ylabel('accuracy')\n",
        "plt.xlabel('epoch')\n",
        "plt.legend(['train', 'validation'], loc='upper left')\n",
        "plt.show()\n"
      ],
      "execution_count": null,
      "outputs": [
        {
          "output_type": "display_data",
          "data": {
            "image/png": "[encoded data removed]",
            "text/plain": [
              "<Figure size 432x288 with 1 Axes>"
            ]
          },
          "metadata": {
            "tags": [],
            "needs_background": "light"
          }
        }
      ]
    },
    {
      "cell_type": "code",
      "metadata": {
        "id": "y1d1snCda6Nl"
      },
      "source": [
        ""
      ],
      "execution_count": null,
      "outputs": []
    },
    {
      "cell_type": "code",
      "metadata": {
        "id": "kwSFXwZ4oF42"
      },
      "source": [
        ""
      ],
      "execution_count": null,
      "outputs": []
    }
  ]
}