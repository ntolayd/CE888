{
  "nbformat": 4,
  "nbformat_minor": 0,
  "metadata": {
    "colab": {
      "name": "Untitled9.ipynb",
      "provenance": [],
      "authorship_tag": "ABX9TyOsDtj/2/j2lkjrrbCdsCkZ",
      "include_colab_link": true
    },
    "kernelspec": {
      "name": "python3",
      "display_name": "Python 3"
    },
    "language_info": {
      "name": "python"
    },
    "accelerator": "GPU"
  },
  "cells": [
    {
      "cell_type": "markdown",
      "metadata": {
        "id": "view-in-github",
        "colab_type": "text"
      },
      "source": [
        "<a href=\"https://colab.research.google.com/github/ntolayd/CE888/blob/main/Lab8/Lab8_exercise.ipynb\" target=\"_parent\"><img src=\"https://colab.research.google.com/assets/colab-badge.svg\" alt=\"Open In Colab\"/></a>"
      ]
    },
    {
      "cell_type": "code",
      "metadata": {
        "colab": {
          "base_uri": "https://localhost:8080/"
        },
        "id": "S8jA9WEEAXEM",
        "outputId": "dff43db8-9936-42a6-e952-ce86f12f080f"
      },
      "source": [
        "from google.colab import drive\n",
        "drive.mount('/content/gdrive')"
      ],
      "execution_count": 1,
      "outputs": [
        {
          "output_type": "stream",
          "text": [
            "Mounted at /content/gdrive\n"
          ],
          "name": "stdout"
        }
      ]
    },
    {
      "cell_type": "code",
      "metadata": {
        "id": "TXZ8xgRRAdRQ"
      },
      "source": [
        "!unzip \"/content/gdrive/My Drive/data.zip\"\n"
      ],
      "execution_count": null,
      "outputs": []
    },
    {
      "cell_type": "code",
      "metadata": {
        "id": "eO1ZEaDPAph5"
      },
      "source": [
        "import numpy as np\n",
        "from tqdm import tqdm\n",
        "from random import shuffle\n",
        "import cv2\n",
        "import os \n",
        "from tensorflow.keras.preprocessing.image import ImageDataGenerator\n",
        "import tensorflow as tf\n",
        "import matplotlib.pyplot as plt\n",
        "import pandas as pd\n",
        "from keras.models import Sequential\n",
        "from keras.layers import GlobalAveragePooling2D, Flatten, Conv2D, MaxPooling2D\n",
        "from keras.layers import Dropout\n",
        "from keras.layers import Dense\n",
        "from keras.optimizers import Adam, RMSprop\n",
        "from sklearn.metrics import classification_report"
      ],
      "execution_count": 3,
      "outputs": []
    },
    {
      "cell_type": "code",
      "metadata": {
        "colab": {
          "base_uri": "https://localhost:8080/"
        },
        "id": "at5k4S6XBCNV",
        "outputId": "e28f1a94-e7c0-4637-e4a8-073cf5b15ad7"
      },
      "source": [
        "train_datagen = ImageDataGenerator(rescale=1./255,\n",
        "                                   rotation_range=45,\n",
        "                                   #horizontal_flip = True,\n",
        "                                   vertical_flip=True,\n",
        "                                   #width_shift_range=0.2,\n",
        "                                   #height_shift_range=0.2,\n",
        "                                   #fill_mode='reflect',\n",
        "                                   #brightness_range=[0.5, 1.5]\n",
        "                                   #preprocessing_function=noise, \n",
        "                                   validation_split=0.2\n",
        "                                   )\n",
        "\n",
        "validation_datagen = ImageDataGenerator(rescale=1./255)\n",
        "\n",
        "train_generator = train_datagen.flow_from_directory(\n",
        "    'data',\n",
        "    target_size=(150, 150),\n",
        "    batch_size=64,\n",
        "    color_mode='rgb',\n",
        "    class_mode='categorical',\n",
        "    ) # set as training data\n",
        "\n",
        "validation_generator = train_datagen.flow_from_directory(\n",
        "    'data', \n",
        "    target_size=(150, 150),\n",
        "    color_mode='rgb',\n",
        "    batch_size=64,\n",
        "    class_mode='categorical', subset='validation') # set as validation data\n"
      ],
      "execution_count": 10,
      "outputs": [
        {
          "output_type": "stream",
          "text": [
            "Found 808 images belonging to 4 classes.\n",
            "Found 160 images belonging to 4 classes.\n"
          ],
          "name": "stdout"
        }
      ]
    },
    {
      "cell_type": "markdown",
      "metadata": {
        "id": "38ZghWotHVcE"
      },
      "source": [
        "traning with freezing layers"
      ]
    },
    {
      "cell_type": "code",
      "metadata": {
        "id": "v3YcBL0oF6te"
      },
      "source": [
        "from keras.applications import DenseNet121\n",
        "densenet_v2 = DenseNet121(\n",
        "    include_top=False,\n",
        "    input_shape=(150,150,3))\n",
        "model = Sequential()\n",
        "model.add(densenet_v2)\n",
        "model.add(GlobalAveragePooling2D())\n",
        "model.add(Dropout(0.5))\n",
        "model.add(Dense(4, activation='softmax'))\n",
        "\n",
        "for layer in model.layers[:-3]:\n",
        "\tlayer.trainable = False\n",
        "\n",
        "\n",
        "model.compile(loss='categorical_crossentropy',\n",
        "              optimizer=RMSprop(lr=0.000075),\n",
        "              metrics=['accuracy'])"
      ],
      "execution_count": 13,
      "outputs": []
    },
    {
      "cell_type": "code",
      "metadata": {
        "colab": {
          "base_uri": "https://localhost:8080/"
        },
        "id": "Q59JZXphGkQS",
        "outputId": "d2f8b65d-78d8-4375-d0be-dd06cd5e443b"
      },
      "source": [
        "history = model.fit(\n",
        "          train_generator,\n",
        "          steps_per_epoch = train_generator.samples // 64,\n",
        "          validation_data = validation_generator, \n",
        "          validation_steps = validation_generator.samples // 64,\n",
        "          epochs = 15)"
      ],
      "execution_count": 14,
      "outputs": [
        {
          "output_type": "stream",
          "text": [
            "Epoch 1/15\n",
            "12/12 [==============================] - 14s 685ms/step - loss: 3.0353 - accuracy: 0.3234 - val_loss: 2.1075 - val_accuracy: 0.3750\n",
            "Epoch 2/15\n",
            "12/12 [==============================] - 6s 521ms/step - loss: 2.9470 - accuracy: 0.2575 - val_loss: 2.0610 - val_accuracy: 0.3828\n",
            "Epoch 3/15\n",
            "12/12 [==============================] - 6s 509ms/step - loss: 2.6780 - accuracy: 0.2957 - val_loss: 1.8524 - val_accuracy: 0.3281\n",
            "Epoch 4/15\n",
            "12/12 [==============================] - 6s 521ms/step - loss: 2.5243 - accuracy: 0.3279 - val_loss: 1.7523 - val_accuracy: 0.4297\n",
            "Epoch 5/15\n",
            "12/12 [==============================] - 6s 511ms/step - loss: 2.7183 - accuracy: 0.3062 - val_loss: 1.5836 - val_accuracy: 0.3672\n",
            "Epoch 6/15\n",
            "12/12 [==============================] - 6s 512ms/step - loss: 2.5622 - accuracy: 0.3146 - val_loss: 1.5184 - val_accuracy: 0.4062\n",
            "Epoch 7/15\n",
            "12/12 [==============================] - 6s 513ms/step - loss: 2.4167 - accuracy: 0.3691 - val_loss: 1.5408 - val_accuracy: 0.5000\n",
            "Epoch 8/15\n",
            "12/12 [==============================] - 6s 514ms/step - loss: 2.4536 - accuracy: 0.3273 - val_loss: 1.3624 - val_accuracy: 0.4922\n",
            "Epoch 9/15\n",
            "12/12 [==============================] - 6s 505ms/step - loss: 2.4446 - accuracy: 0.3300 - val_loss: 1.3804 - val_accuracy: 0.4531\n",
            "Epoch 10/15\n",
            "12/12 [==============================] - 6s 512ms/step - loss: 2.1262 - accuracy: 0.4155 - val_loss: 1.3015 - val_accuracy: 0.4219\n",
            "Epoch 11/15\n",
            "12/12 [==============================] - 6s 512ms/step - loss: 2.1849 - accuracy: 0.3698 - val_loss: 1.3117 - val_accuracy: 0.4922\n",
            "Epoch 12/15\n",
            "12/12 [==============================] - 6s 508ms/step - loss: 2.1686 - accuracy: 0.3905 - val_loss: 1.2264 - val_accuracy: 0.5312\n",
            "Epoch 13/15\n",
            "12/12 [==============================] - 6s 512ms/step - loss: 2.1400 - accuracy: 0.3564 - val_loss: 1.0329 - val_accuracy: 0.6016\n",
            "Epoch 14/15\n",
            "12/12 [==============================] - 6s 504ms/step - loss: 1.9325 - accuracy: 0.4381 - val_loss: 1.1471 - val_accuracy: 0.6016\n",
            "Epoch 15/15\n",
            "12/12 [==============================] - 6s 510ms/step - loss: 1.8770 - accuracy: 0.4251 - val_loss: 0.9873 - val_accuracy: 0.5781\n"
          ],
          "name": "stdout"
        }
      ]
    },
    {
      "cell_type": "markdown",
      "metadata": {
        "id": "81ih5ySGH0cf"
      },
      "source": [
        "Training whole model"
      ]
    },
    {
      "cell_type": "code",
      "metadata": {
        "id": "no9lyrZOGrCy"
      },
      "source": [
        "from keras.applications import DenseNet121\n",
        "densenet_v2 = DenseNet121(\n",
        "    include_top=False,\n",
        "    input_shape=(150,150,3))\n",
        "model = Sequential()\n",
        "model.add(densenet_v2)\n",
        "model.add(GlobalAveragePooling2D())\n",
        "model.add(Dropout(0.5))\n",
        "model.add(Dense(4, activation='softmax'))\n",
        "\n",
        "\n",
        "model.compile(loss='categorical_crossentropy',\n",
        "              optimizer=RMSprop(lr=0.000075),\n",
        "              metrics=['accuracy'])"
      ],
      "execution_count": 16,
      "outputs": []
    },
    {
      "cell_type": "code",
      "metadata": {
        "colab": {
          "base_uri": "https://localhost:8080/"
        },
        "id": "ZSqipUgeHy3J",
        "outputId": "e95e9e6a-0b61-4f23-b9fb-1d08d6990196"
      },
      "source": [
        "history = model.fit(\n",
        "          train_generator,\n",
        "          steps_per_epoch = train_generator.samples // 64,\n",
        "          validation_data = validation_generator, \n",
        "          validation_steps = validation_generator.samples // 64,\n",
        "          epochs = 15)"
      ],
      "execution_count": 17,
      "outputs": [
        {
          "output_type": "stream",
          "text": [
            "Epoch 1/15\n",
            "12/12 [==============================] - 26s 733ms/step - loss: 1.7220 - accuracy: 0.4205 - val_loss: 0.8194 - val_accuracy: 0.7188\n",
            "Epoch 2/15\n",
            "12/12 [==============================] - 7s 560ms/step - loss: 0.5923 - accuracy: 0.7799 - val_loss: 0.6476 - val_accuracy: 0.7344\n",
            "Epoch 3/15\n",
            "12/12 [==============================] - 7s 559ms/step - loss: 0.3820 - accuracy: 0.8647 - val_loss: 0.5618 - val_accuracy: 0.8047\n",
            "Epoch 4/15\n",
            "12/12 [==============================] - 7s 563ms/step - loss: 0.2666 - accuracy: 0.9001 - val_loss: 0.2554 - val_accuracy: 0.9062\n",
            "Epoch 5/15\n",
            "12/12 [==============================] - 7s 559ms/step - loss: 0.2135 - accuracy: 0.9239 - val_loss: 0.3159 - val_accuracy: 0.9062\n",
            "Epoch 6/15\n",
            "12/12 [==============================] - 7s 561ms/step - loss: 0.2045 - accuracy: 0.9352 - val_loss: 0.3226 - val_accuracy: 0.8906\n",
            "Epoch 7/15\n",
            "12/12 [==============================] - 7s 565ms/step - loss: 0.1485 - accuracy: 0.9478 - val_loss: 0.2129 - val_accuracy: 0.9219\n",
            "Epoch 8/15\n",
            "12/12 [==============================] - 7s 560ms/step - loss: 0.1129 - accuracy: 0.9614 - val_loss: 0.1201 - val_accuracy: 0.9531\n",
            "Epoch 9/15\n",
            "12/12 [==============================] - 7s 555ms/step - loss: 0.0747 - accuracy: 0.9783 - val_loss: 0.1184 - val_accuracy: 0.9609\n",
            "Epoch 10/15\n",
            "12/12 [==============================] - 7s 565ms/step - loss: 0.0473 - accuracy: 0.9888 - val_loss: 0.1192 - val_accuracy: 0.9766\n",
            "Epoch 11/15\n",
            "12/12 [==============================] - 7s 558ms/step - loss: 0.0544 - accuracy: 0.9871 - val_loss: 0.1920 - val_accuracy: 0.9688\n",
            "Epoch 12/15\n",
            "12/12 [==============================] - 7s 557ms/step - loss: 0.0553 - accuracy: 0.9864 - val_loss: 0.2074 - val_accuracy: 0.9453\n",
            "Epoch 13/15\n",
            "12/12 [==============================] - 7s 560ms/step - loss: 0.0489 - accuracy: 0.9856 - val_loss: 0.1376 - val_accuracy: 0.9453\n",
            "Epoch 14/15\n",
            "12/12 [==============================] - 7s 566ms/step - loss: 0.0189 - accuracy: 0.9953 - val_loss: 0.0489 - val_accuracy: 0.9844\n",
            "Epoch 15/15\n",
            "12/12 [==============================] - 7s 559ms/step - loss: 0.0397 - accuracy: 0.9856 - val_loss: 0.0145 - val_accuracy: 0.9922\n"
          ],
          "name": "stdout"
        }
      ]
    },
    {
      "cell_type": "markdown",
      "metadata": {
        "id": "8efFhjD-IVYb"
      },
      "source": [
        "As it can be seem from the results of 2 models, there is a significant difference between model scores on validation data. When we freeze some layers in the densenet model, we got around 57 percent of accuracy. However, when we train the whole model without freezing, we achieve 99 percent of accuracy on the validation data. "
      ]
    },
    {
      "cell_type": "code",
      "metadata": {
        "id": "pAg2gTcTH4yd"
      },
      "source": [
        ""
      ],
      "execution_count": null,
      "outputs": []
    }
  ]
}